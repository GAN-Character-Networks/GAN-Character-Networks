{
 "cells": [
  {
   "cell_type": "code",
   "execution_count": 1,
   "metadata": {},
   "outputs": [],
   "source": [
    "from vroom.NER import *\n",
    "from vroom.alias import *\n",
    "from vroom.baseline import *"
   ]
  },
  {
   "cell_type": "code",
   "execution_count": 4,
   "metadata": {},
   "outputs": [
    {
     "name": "stdout",
     "output_type": "stream",
     "text": [
      "Baley\n",
      "R. Daneel\n",
      "Baley\n",
      "Baley\n",
      "Lije\n",
      "Baley\n",
      "Baley\n",
      "R. Daneel\n",
      "Baley\n",
      "R. Daneel\n",
      "R. Daneel\n",
      "Daneel\n",
      "Baley\n",
      "R. Daneel\n",
      "R. Daneel\n",
      "ROBOT\n",
      "Elijah\n",
      "R. Daneel\n",
      "Baley\n",
      "Baley\n",
      "R. Daneel\n"
     ]
    }
   ],
   "source": [
    "#path = \"../data/kaggle/prelude_a_fondation/chapter_1.txt.preprocessed\"\n",
    "path = \"../data/kaggle/les_cavernes_d_acier/chapter_3.txt.preprocessed\"\n",
    "entities, _ = get_entities_from_file(path)\n",
    "\n",
    "entities = [entity for sublist in entities for entity in sublist]\n",
    "\n",
    "\n",
    "for entity in entities:\n",
    "    print(entity[\"word\"])"
   ]
  },
  {
   "cell_type": "code",
   "execution_count": 5,
   "metadata": {},
   "outputs": [
    {
     "data": {
      "text/plain": [
       "[['baley'], ['r._daneel', 'daneel'], ['lije', 'elijah'], ['robot']]"
      ]
     },
     "execution_count": 5,
     "metadata": {},
     "output_type": "execute_result"
    }
   ],
   "source": [
    "get_aliases_jaro_winkler(entities, 0.60)"
   ]
  },
  {
   "cell_type": "code",
   "execution_count": 6,
   "metadata": {},
   "outputs": [
    {
     "name": "stdout",
     "output_type": "stream",
     "text": [
      "===== Fuzzy done =====\n",
      "['Baley']\n",
      "['R. Daneel', 'Daneel']\n",
      "['Lije']\n",
      "['ROBOT']\n",
      "['Elijah']\n"
     ]
    }
   ],
   "source": [
    "aliases = get_aliases_fuzzy(entities, 99)\n",
    "print(\"===== Fuzzy done =====\")\n",
    "for alias in aliases:\n",
    "    print(alias)"
   ]
  }
 ],
 "metadata": {
  "kernelspec": {
   "display_name": "ia",
   "language": "python",
   "name": "python3"
  },
  "language_info": {
   "codemirror_mode": {
    "name": "ipython",
    "version": 3
   },
   "file_extension": ".py",
   "mimetype": "text/x-python",
   "name": "python",
   "nbconvert_exporter": "python",
   "pygments_lexer": "ipython3",
   "version": "3.9.13"
  }
 },
 "nbformat": 4,
 "nbformat_minor": 2
}
