{
 "cells": [
  {
   "cell_type": "code",
   "execution_count": 11,
   "metadata": {},
   "outputs": [],
   "source": [
    "from vroom.NER import *\n",
    "from vroom.alias import *\n",
    "from vroom.baseline import *"
   ]
  },
  {
   "cell_type": "code",
   "execution_count": 12,
   "metadata": {},
   "outputs": [
    {
     "name": "stdout",
     "output_type": "stream",
     "text": [
      "Jessie\n",
      "Jessie\n",
      "Jézabel\n",
      "Jézabel\n",
      "Baley\n",
      "Elie\n",
      "Elie\n",
      "Jézabel\n",
      "Elijah\n",
      "Elie\n",
      "Baley\n",
      "Lije\n",
      "Baley\n",
      "Julius Enderby\n",
      "Baley\n",
      "Jessie\n",
      "Jézabel\n",
      "Jézabel\n",
      "Jézabel\n",
      "Jessie\n",
      "Jézabel\n",
      "Ahab\n",
      "Jézabel\n",
      "Jéhoram\n",
      "Jéhu\n",
      "Jéhu\n",
      "Jézabel\n",
      "Jézabel\n",
      "Elie\n",
      "Elie\n",
      "Jessie\n",
      "Naboth\n",
      "Lije\n",
      "Jézabel\n",
      "Naboth\n",
      "Baley\n",
      "Naboth\n",
      "Naboth\n",
      "Ahab\n",
      "Jézabel\n",
      "Ahab\n",
      "Naboth\n",
      "Jessie\n",
      "Jessie\n",
      "Bentley\n",
      "Baley\n",
      "Bentley Baley\n",
      "Eli\n",
      "Junior\n",
      "Eli\n",
      "Jessie\n",
      "Daneel Olivaw\n",
      "Bentley\n",
      "Baley\n",
      "Baley\n",
      "Baley\n",
      "Daneel\n",
      "Baley\n",
      "Lije Baley\n",
      "Baley\n",
      "Jessie\n",
      "Olivaw\n",
      "Lije\n",
      "Daneel\n",
      "Jessie\n",
      "Olivaw\n",
      "Lije\n",
      "Bentley\n",
      "Baley\n",
      "R. Daneel\n",
      "Jessie\n",
      "Jessie\n",
      "Jessie\n",
      "Jessie\n",
      "R. Daneel\n",
      "Bentley\n",
      "Lije\n",
      "Daneel Olivaw\n",
      "Olivaw\n",
      "Ben\n",
      "Baley\n",
      "Bentley\n",
      "Bentley\n",
      "Bentley\n",
      "Jessie\n",
      "Bentley\n",
      "Bentley\n",
      "Lije\n",
      "Bentley\n",
      "R. Daneel\n",
      "Bentley\n",
      "R. Daneel\n",
      "Olivaw\n",
      "Baley\n",
      "R. Daneel\n",
      "Bentley\n",
      "M. Olivaw\n"
     ]
    }
   ],
   "source": [
    "path = \"../data/kaggle/les_cavernes_d_acier/chapter_5.txt.preprocessed\"\n",
    "entities, _ = get_entities_from_file(path)\n",
    "\n",
    "entities = [entity for sublist in entities for entity in sublist]\n",
    "\n",
    "\n",
    "# for entity in entities:\n",
    "#     print(entity[\"word\"])"
   ]
  },
  {
   "cell_type": "code",
   "execution_count": 13,
   "metadata": {},
   "outputs": [
    {
     "data": {
      "text/plain": [
       "[['jessie', 'eli', 'elijah', 'elie'],\n",
       " ['jézabel', 'lije', 'julius_enderby', 'junior', 'lije_baley'],\n",
       " ['baley', 'bentley_baley', 'ben', 'bentley'],\n",
       " ['ahab', 'naboth'],\n",
       " ['jéhoram', 'jéhu'],\n",
       " ['daneel_olivaw', 'r._daneel', 'daneel'],\n",
       " ['olivaw', 'm._olivaw']]"
      ]
     },
     "execution_count": 13,
     "metadata": {},
     "output_type": "execute_result"
    }
   ],
   "source": [
    "get_aliases_jaro_winkler(entities, 0.60)"
   ]
  },
  {
   "cell_type": "code",
   "execution_count": 14,
   "metadata": {},
   "outputs": [
    {
     "name": "stdout",
     "output_type": "stream",
     "text": [
      "===== Fuzzy done =====\n",
      "['Jessie']\n",
      "['Jézabel']\n",
      "['Baley', 'Lije Baley', 'Lije', 'Bentley', 'Ben', 'Bentley Baley']\n",
      "['Elie', 'Elijah', 'Eli']\n",
      "['Julius Enderby']\n",
      "['Ahab']\n",
      "['Jéhoram']\n",
      "['Jéhu']\n",
      "['Naboth']\n",
      "['Junior']\n",
      "['Daneel Olivaw', 'Olivaw', 'R. Daneel', 'M. Olivaw', 'Daneel']\n"
     ]
    }
   ],
   "source": [
    "aliases = get_aliases_fuzzy(entities, 99)\n",
    "print(\"===== Fuzzy done =====\")\n",
    "for alias in aliases:\n",
    "    print(alias)"
   ]
  }
 ],
 "metadata": {
  "kernelspec": {
   "display_name": "ia",
   "language": "python",
   "name": "python3"
  },
  "language_info": {
   "codemirror_mode": {
    "name": "ipython",
    "version": 3
   },
   "file_extension": ".py",
   "mimetype": "text/x-python",
   "name": "python",
   "nbconvert_exporter": "python",
   "pygments_lexer": "ipython3",
   "version": "3.9.13"
  }
 },
 "nbformat": 4,
 "nbformat_minor": 2
}
