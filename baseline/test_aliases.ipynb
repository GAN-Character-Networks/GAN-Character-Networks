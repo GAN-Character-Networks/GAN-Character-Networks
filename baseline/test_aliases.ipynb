{
 "cells": [
  {
   "cell_type": "code",
   "execution_count": 1,
   "metadata": {},
   "outputs": [],
   "source": [
    "from vroom.NER import *\n",
    "from vroom.alias import *\n",
    "from vroom.baseline import *"
   ]
  },
  {
   "cell_type": "code",
   "execution_count": 2,
   "metadata": {},
   "outputs": [
    {
     "name": "stdout",
     "output_type": "stream",
     "text": [
      "Baley\n",
      "Baley\n",
      "Baley\n",
      "Baley\n",
      "Julius Enderby\n",
      "Baley\n",
      "Baley\n",
      "Baley\n",
      "Baley\n",
      "Baley\n",
      "Enderby\n",
      "R. Daneel Olivaw\n",
      "Baley\n",
      "Olivaw\n",
      "Elijah Baley\n",
      "Baley\n",
      "Da... Daneel\n",
      "Elijah\n",
      "Baley\n",
      "Baley\n",
      "R. Daneel\n",
      "R. Daneel\n",
      "R. Daneel Olivaw\n",
      "Baley\n",
      "R. Sammy\n",
      "R. Daneel\n",
      "Baley\n",
      "R. Daneel\n",
      "Baley\n",
      "Baley\n",
      "Daneel\n",
      "Baley\n",
      "Baley\n",
      "Baley\n"
     ]
    }
   ],
   "source": [
    "path = \"../data/kaggle/les_cavernes_d_acier/chapter_2.txt.preprocessed\"\n",
    "entities, _ = get_entities_from_file(path)\n",
    "\n",
    "entities = [entity for sublist in entities for entity in sublist]\n",
    "\n",
    "\n",
    "for entity in entities:\n",
    "    print(entity[\"word\"])"
   ]
  },
  {
   "cell_type": "code",
   "execution_count": 3,
   "metadata": {},
   "outputs": [
    {
     "data": {
      "text/plain": [
       "[['baley'],\n",
       " ['julius_enderby'],\n",
       " ['enderby'],\n",
       " ['r._daneel_olivaw', 'da..._daneel', 'r._sammy', 'daneel', 'r._daneel'],\n",
       " ['olivaw', 'elijah_baley', 'elijah']]"
      ]
     },
     "execution_count": 3,
     "metadata": {},
     "output_type": "execute_result"
    }
   ],
   "source": [
    "get_aliases_jaro_winkler(entities, 0.60)"
   ]
  },
  {
   "cell_type": "code",
   "execution_count": 4,
   "metadata": {},
   "outputs": [
    {
     "name": "stdout",
     "output_type": "stream",
     "text": [
      "Looking for alias for baley\n",
      "Looking for alias for baley\n",
      "Best score for baley is 100.0 with elijah_baley\n",
      "Looking for alias for elijah_baley\n",
      "Best alias for best name elijah_baley is baley with 100.0\n",
      "Looking for alias for baley\n",
      "================== Already has an alias ==================\n",
      "{'elijah_baley': 1, 'baley': 1}\n",
      "Looking for alias for baley\n",
      "================== Already has an alias ==================\n",
      "{'elijah_baley': 1, 'baley': 1}\n",
      "Looking for alias for baley\n",
      "================== Already has an alias ==================\n",
      "{'elijah_baley': 1, 'baley': 1}\n",
      "Looking for alias for julius_enderby\n",
      "Looking for alias for julius_enderby\n",
      "Best score for julius_enderby is 100.0 with enderby\n",
      "Looking for alias for enderby\n",
      "Best alias for best name enderby is julius_enderby with 100.0\n",
      "Looking for alias for baley\n",
      "================== Already has an alias ==================\n",
      "{'elijah_baley': 1, 'baley': 1, 'enderby': 3, 'julius_enderby': 3}\n",
      "Looking for alias for baley\n",
      "================== Already has an alias ==================\n",
      "{'elijah_baley': 1, 'baley': 1, 'enderby': 3, 'julius_enderby': 3}\n",
      "Looking for alias for baley\n",
      "================== Already has an alias ==================\n",
      "{'elijah_baley': 1, 'baley': 1, 'enderby': 3, 'julius_enderby': 3}\n",
      "Looking for alias for baley\n",
      "================== Already has an alias ==================\n",
      "{'elijah_baley': 1, 'baley': 1, 'enderby': 3, 'julius_enderby': 3}\n",
      "Looking for alias for baley\n",
      "================== Already has an alias ==================\n",
      "{'elijah_baley': 1, 'baley': 1, 'enderby': 3, 'julius_enderby': 3}\n",
      "Looking for alias for enderby\n",
      "================== Already has an alias ==================\n",
      "{'elijah_baley': 1, 'baley': 1, 'enderby': 3, 'julius_enderby': 3}\n",
      "Looking for alias for r._daneel_olivaw\n",
      "Looking for alias for r._daneel_olivaw\n",
      "Best score for r._daneel_olivaw is 100.0 with olivaw\n",
      "Looking for alias for olivaw\n",
      "Best alias for best name olivaw is r._daneel_olivaw with 100.0\n",
      "Looking for alias for baley\n",
      "================== Already has an alias ==================\n",
      "{'elijah_baley': 1, 'baley': 1, 'enderby': 3, 'julius_enderby': 3, 'olivaw': 5, 'r._daneel_olivaw': 5}\n",
      "Looking for alias for olivaw\n",
      "================== Already has an alias ==================\n",
      "{'elijah_baley': 1, 'baley': 1, 'enderby': 3, 'julius_enderby': 3, 'olivaw': 5, 'r._daneel_olivaw': 5}\n",
      "Looking for alias for elijah_baley\n",
      "================== Already has an alias ==================\n",
      "{'elijah_baley': 1, 'baley': 1, 'enderby': 3, 'julius_enderby': 3, 'olivaw': 5, 'r._daneel_olivaw': 5}\n",
      "Looking for alias for baley\n",
      "================== Already has an alias ==================\n",
      "{'elijah_baley': 1, 'baley': 1, 'enderby': 3, 'julius_enderby': 3, 'olivaw': 5, 'r._daneel_olivaw': 5}\n",
      "Looking for alias for da..._daneel\n",
      "Looking for alias for da..._daneel\n",
      "Best score for da..._daneel is 100.0 with daneel\n",
      "Looking for alias for daneel\n",
      "Best alias for best name daneel is r._daneel_olivaw with 100.0\n",
      "Looking for alias for elijah\n",
      "Looking for alias for elijah\n",
      "Best score for elijah is 100.0 with elijah_baley\n",
      "Looking for alias for baley\n",
      "================== Already has an alias ==================\n",
      "{'elijah_baley': 1, 'baley': 1, 'enderby': 3, 'julius_enderby': 3, 'olivaw': 5, 'r._daneel_olivaw': 5, 'daneel': 7, 'da..._daneel': 7, 'elijah': 1}\n",
      "Looking for alias for baley\n",
      "================== Already has an alias ==================\n",
      "{'elijah_baley': 1, 'baley': 1, 'enderby': 3, 'julius_enderby': 3, 'olivaw': 5, 'r._daneel_olivaw': 5, 'daneel': 7, 'da..._daneel': 7, 'elijah': 1}\n",
      "Looking for alias for r._daneel\n",
      "Looking for alias for r._daneel\n",
      "Best score for r._daneel is 100.0 with r._daneel_olivaw\n",
      "Looking for alias for r._daneel\n",
      "================== Already has an alias ==================\n",
      "{'elijah_baley': 1, 'baley': 1, 'enderby': 3, 'julius_enderby': 3, 'olivaw': 5, 'r._daneel_olivaw': 5, 'daneel': 7, 'da..._daneel': 7, 'elijah': 1, 'r._daneel': 5}\n",
      "Looking for alias for r._daneel_olivaw\n",
      "================== Already has an alias ==================\n",
      "{'elijah_baley': 1, 'baley': 1, 'enderby': 3, 'julius_enderby': 3, 'olivaw': 5, 'r._daneel_olivaw': 5, 'daneel': 7, 'da..._daneel': 7, 'elijah': 1, 'r._daneel': 5}\n",
      "Looking for alias for baley\n",
      "================== Already has an alias ==================\n",
      "{'elijah_baley': 1, 'baley': 1, 'enderby': 3, 'julius_enderby': 3, 'olivaw': 5, 'r._daneel_olivaw': 5, 'daneel': 7, 'da..._daneel': 7, 'elijah': 1, 'r._daneel': 5}\n",
      "Looking for alias for r._sammy\n",
      "Looking for alias for r._sammy\n",
      "r._sammy has no alias\n",
      "Looking for alias for r._daneel\n",
      "================== Already has an alias ==================\n",
      "{'elijah_baley': 1, 'baley': 1, 'enderby': 3, 'julius_enderby': 3, 'olivaw': 5, 'r._daneel_olivaw': 5, 'daneel': 7, 'da..._daneel': 7, 'elijah': 1, 'r._daneel': 5, 'r._sammy': 10}\n",
      "Looking for alias for baley\n",
      "================== Already has an alias ==================\n",
      "{'elijah_baley': 1, 'baley': 1, 'enderby': 3, 'julius_enderby': 3, 'olivaw': 5, 'r._daneel_olivaw': 5, 'daneel': 7, 'da..._daneel': 7, 'elijah': 1, 'r._daneel': 5, 'r._sammy': 10}\n",
      "Looking for alias for r._daneel\n",
      "================== Already has an alias ==================\n",
      "{'elijah_baley': 1, 'baley': 1, 'enderby': 3, 'julius_enderby': 3, 'olivaw': 5, 'r._daneel_olivaw': 5, 'daneel': 7, 'da..._daneel': 7, 'elijah': 1, 'r._daneel': 5, 'r._sammy': 10}\n",
      "Looking for alias for baley\n",
      "================== Already has an alias ==================\n",
      "{'elijah_baley': 1, 'baley': 1, 'enderby': 3, 'julius_enderby': 3, 'olivaw': 5, 'r._daneel_olivaw': 5, 'daneel': 7, 'da..._daneel': 7, 'elijah': 1, 'r._daneel': 5, 'r._sammy': 10}\n",
      "Looking for alias for baley\n",
      "================== Already has an alias ==================\n",
      "{'elijah_baley': 1, 'baley': 1, 'enderby': 3, 'julius_enderby': 3, 'olivaw': 5, 'r._daneel_olivaw': 5, 'daneel': 7, 'da..._daneel': 7, 'elijah': 1, 'r._daneel': 5, 'r._sammy': 10}\n",
      "Looking for alias for daneel\n",
      "================== Already has an alias ==================\n",
      "{'elijah_baley': 1, 'baley': 1, 'enderby': 3, 'julius_enderby': 3, 'olivaw': 5, 'r._daneel_olivaw': 5, 'daneel': 7, 'da..._daneel': 7, 'elijah': 1, 'r._daneel': 5, 'r._sammy': 10}\n",
      "Looking for alias for baley\n",
      "================== Already has an alias ==================\n",
      "{'elijah_baley': 1, 'baley': 1, 'enderby': 3, 'julius_enderby': 3, 'olivaw': 5, 'r._daneel_olivaw': 5, 'daneel': 7, 'da..._daneel': 7, 'elijah': 1, 'r._daneel': 5, 'r._sammy': 10}\n",
      "Looking for alias for baley\n",
      "================== Already has an alias ==================\n",
      "{'elijah_baley': 1, 'baley': 1, 'enderby': 3, 'julius_enderby': 3, 'olivaw': 5, 'r._daneel_olivaw': 5, 'daneel': 7, 'da..._daneel': 7, 'elijah': 1, 'r._daneel': 5, 'r._sammy': 10}\n",
      "Looking for alias for baley\n",
      "================== Already has an alias ==================\n",
      "{'elijah_baley': 1, 'baley': 1, 'enderby': 3, 'julius_enderby': 3, 'olivaw': 5, 'r._daneel_olivaw': 5, 'daneel': 7, 'da..._daneel': 7, 'elijah': 1, 'r._daneel': 5, 'r._sammy': 10}\n",
      "===== Fuzzy done =====\n",
      "['baley', 'elijah', 'elijah_baley']\n",
      "['julius_enderby', 'enderby']\n",
      "['r._daneel_olivaw', 'r._daneel', 'olivaw']\n",
      "['da..._daneel', 'daneel']\n",
      "['r._sammy']\n"
     ]
    }
   ],
   "source": [
    "aliases = get_aliases_fuzzy(entities, 99)\n",
    "print(\"===== Fuzzy done =====\")\n",
    "for alias in aliases:\n",
    "    print(alias)"
   ]
  },
  {
   "cell_type": "code",
   "execution_count": 5,
   "metadata": {},
   "outputs": [
    {
     "data": {
      "text/plain": [
       "0.9047619047619048"
      ]
     },
     "execution_count": 5,
     "metadata": {},
     "output_type": "execute_result"
    }
   ],
   "source": [
    "from textdistance import jaro_winkler, gotoh\n",
    "\n",
    "jaro_winkler(\"Enderby\", \"enderby\")"
   ]
  }
 ],
 "metadata": {
  "kernelspec": {
   "display_name": "ia",
   "language": "python",
   "name": "python3"
  },
  "language_info": {
   "codemirror_mode": {
    "name": "ipython",
    "version": 3
   },
   "file_extension": ".py",
   "mimetype": "text/x-python",
   "name": "python",
   "nbconvert_exporter": "python",
   "pygments_lexer": "ipython3",
   "version": "3.9.13"
  }
 },
 "nbformat": 4,
 "nbformat_minor": 2
}
