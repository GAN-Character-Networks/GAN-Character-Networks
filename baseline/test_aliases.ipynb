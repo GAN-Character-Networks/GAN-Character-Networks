{
 "cells": [
  {
   "cell_type": "code",
   "execution_count": 2,
   "metadata": {},
   "outputs": [],
   "source": [
    "from NER import *\n",
    "from alias import *\n",
    "from baseline import *"
   ]
  },
  {
   "cell_type": "code",
   "execution_count": null,
   "metadata": {},
   "outputs": [
    {
     "name": "stdout",
     "output_type": "stream",
     "text": [
      "Simpson\n",
      "R. Sammy\n",
      "Vince Barrett\n",
      "R. Sammy\n",
      "Vince\n",
      "Baley\n",
      "JULIUS ENDERBY\n",
      "Baley\n",
      "Enderby\n",
      "Baley\n"
     ]
    }
   ],
   "source": [
    "with open(\"../data/kaggle/les_cavernes_d_acier/chapter_1.txt.preprocessed\", \"r\") as f:\n",
    "    text = f.read()\n",
    "entities = get_entities(text)\n",
    "for name in entities:\n",
    "    print(name[\"word\"])"
   ]
  },
  {
   "cell_type": "code",
   "execution_count": null,
   "metadata": {},
   "outputs": [
    {
     "name": "stdout",
     "output_type": "stream",
     "text": [
      "simpson has no alias\n",
      "r._sammy has no alias\n",
      "The best name for vince_barrett is vince\n",
      "r._sammy has no alias\n",
      "The best name for vince is vince_barrett\n",
      "baley has no alias\n",
      "julius_enderby has no alias\n",
      "baley has no alias\n",
      "enderby has no alias\n",
      "baley has no alias\n",
      "{'simpson': 0, 'r._sammy': 4, 'vince': 2, 'vince_barrett': 2, 'baley': 7, 'julius_enderby': 5, 'enderby': 6}\n"
     ]
    }
   ],
   "source": [
    "get_aliases_jaro_winkler(entities, 0.6)"
   ]
  },
  {
   "cell_type": "code",
   "execution_count": null,
   "metadata": {},
   "outputs": [
    {
     "data": {
      "text/plain": [
       "0.9047619047619048"
      ]
     },
     "execution_count": 4,
     "metadata": {},
     "output_type": "execute_result"
    }
   ],
   "source": [
    "from textdistance import jaro_winkler, gotoh\n",
    "\n",
    "jaro_winkler(\"Enderby\", \"enderby\")"
   ]
  }
 ],
 "metadata": {
  "kernelspec": {
   "display_name": "ia",
   "language": "python",
   "name": "python3"
  },
  "language_info": {
   "codemirror_mode": {
    "name": "ipython",
    "version": 3
   },
   "file_extension": ".py",
   "mimetype": "text/x-python",
   "name": "python",
   "nbconvert_exporter": "python",
   "pygments_lexer": "ipython3",
   "version": "3.9.13"
  }
 },
 "nbformat": 4,
 "nbformat_minor": 2
}
