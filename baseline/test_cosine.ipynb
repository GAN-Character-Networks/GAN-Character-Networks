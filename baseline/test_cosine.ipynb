{
 "cells": [
  {
   "cell_type": "code",
   "execution_count": 18,
   "metadata": {},
   "outputs": [],
   "source": [
    "def remove_duplicates_by_word(data):\n",
    "    unique_dicts = []\n",
    "    words = set()\n",
    "\n",
    "    for entity in data:\n",
    "        word = entity['word']\n",
    "        if word not in words:\n",
    "            unique_dicts.append(entity)\n",
    "            words.add(word)\n",
    "\n",
    "    return unique_dicts"
   ]
  },
  {
   "cell_type": "code",
   "execution_count": 19,
   "metadata": {},
   "outputs": [
    {
     "name": "stdout",
     "output_type": "stream",
     "text": [
      "[{'entity_group': 'PER', 'word': 'Simpson', 'start': 339, 'end': 347}, {'entity_group': 'PER', 'word': 'R. Sammy', 'start': 387, 'end': 396}, {'entity_group': 'PER', 'word': 'Vince Barrett', 'start': 483, 'end': 497}, {'entity_group': 'PER', 'word': 'R. Sammy', 'start': 688, 'end': 697}, {'entity_group': 'PER', 'word': 'Vince', 'start': 789, 'end': 795}, {'entity_group': 'PER', 'word': 'Baley', 'start': 957, 'end': 963}, {'entity_group': 'PER', 'word': 'JULIUS ENDERBY', 'start': 1188, 'end': 1203}, {'entity_group': 'PER', 'word': 'Baley', 'start': 1372, 'end': 1378}, {'entity_group': 'PER', 'word': 'Enderby', 'start': 1458, 'end': 1466}, {'entity_group': 'PER', 'word': 'Baley', 'start': 1796, 'end': 1802}]\n",
      "[{'entity_group': 'PER', 'word': 'Simpson', 'start': 339, 'end': 347}, {'entity_group': 'PER', 'word': 'R. Sammy', 'start': 387, 'end': 396}, {'entity_group': 'PER', 'word': 'Vince Barrett', 'start': 483, 'end': 497}, {'entity_group': 'PER', 'word': 'Vince', 'start': 789, 'end': 795}, {'entity_group': 'PER', 'word': 'Baley', 'start': 957, 'end': 963}, {'entity_group': 'PER', 'word': 'JULIUS ENDERBY', 'start': 1188, 'end': 1203}, {'entity_group': 'PER', 'word': 'Enderby', 'start': 1458, 'end': 1466}]\n"
     ]
    }
   ],
   "source": [
    "from transformers import AutoTokenizer, AutoModelForTokenClassification\n",
    "import json\n",
    "tokenizer = AutoTokenizer.from_pretrained(\"Jean-Baptiste/camembert-ner\")\n",
    "model = AutoModelForTokenClassification.from_pretrained(\"Jean-Baptiste/camembert-ner\")\n",
    "\n",
    "\n",
    "##### Process text sample (from wikipedia)\n",
    "\n",
    "from transformers import pipeline\n",
    "\n",
    "nlp = pipeline('ner', model=model, tokenizer=tokenizer, aggregation_strategy=\"simple\")\n",
    "\n",
    "with open(\"../data/kaggle/les_cavernes_d_acier/chapter_1.txt.preprocessed\", \"r\") as f:\n",
    "    text = f.read()\n",
    "\n",
    "data = nlp(text)\n",
    "# Extract the desired values from each dictionary\n",
    "filtered_data = [{'entity_group': d['entity_group'], 'word': d['word'], 'start': d['start'], 'end': d['end']} for d in data]\n",
    "filtered_results = [\n",
    "        entity for entity in filtered_data if entity[\"entity_group\"] == \"PER\"\n",
    "    ]\n",
    "print(filtered_results)\n",
    "filtered_results = remove_duplicates_by_word(filtered_results)\n",
    "#print(type(filtered_results))\n",
    "print(filtered_results)\n",
    "# json_data = json.dumps(filtered_results, indent=4, ensure_ascii=False)\n",
    "\n",
    "\n",
    "# with open('result.json', 'w') as fp:\n",
    "#     fp.write(json_data)\n"
   ]
  },
  {
   "cell_type": "code",
   "execution_count": 20,
   "metadata": {},
   "outputs": [
    {
     "name": "stdout",
     "output_type": "stream",
     "text": [
      "['▁This', '▁is', '▁a', '▁test', '▁', 'text', '.']\n"
     ]
    }
   ],
   "source": [
    "test_text = \"This is a test text.\"\n",
    "tokenized_text = tokenizer.tokenize(test_text)\n",
    "print(tokenized_text)\n"
   ]
  },
  {
   "cell_type": "code",
   "execution_count": 21,
   "metadata": {},
   "outputs": [],
   "source": [
    "def chunk_text(text):\n",
    "    \"\"\"\n",
    "    Chunk the text into a list of subtexts of a size of 500 tokens.\n",
    "\n",
    "    Args:\n",
    "        text (str): The input text.\n",
    "\n",
    "    Returns:\n",
    "        list: A list of subtexts.\n",
    "    \"\"\"\n",
    "    chunked_text = []\n",
    "    chunk = []\n",
    "    words = text.split()\n",
    "    for word in words:\n",
    "        if len(\" \".join(chunk)) + len(word) > 500:\n",
    "            chunked_text.append(\" \".join(chunk))\n",
    "            chunk = []\n",
    "        chunk.append(word)\n",
    "    if chunk:\n",
    "        chunked_text.append(\" \".join(chunk))\n",
    "    return chunked_text\n"
   ]
  },
  {
   "cell_type": "code",
   "execution_count": 22,
   "metadata": {},
   "outputs": [
    {
     "data": {
      "text/plain": [
       "['Un ruban couvert d’inscriptions serrées en langage chiffré sortait sans arrêt des organes vitaux de l’enregistreuse ; ce petit appareil recherchait et analysait ses « souvenirs », afin de fournir le renseignement demandé, qui était obtenu grâce à d’infinies vibrations produites sur la brillante surface du mercure. — Moi, reprit Simpson, je flanquerais mon pied au derrière de R. Sammy, si je n’avais pas peur de me casser une jambe ! Tu sais, l’autre soir, j’ai rencontré Vince Barrett... — Ah oui',\n",
       " '?... — Il cherche à récupérer son job, ou n’importe quelle autre place dans le Service. Pauvre gosse ! Il est désespéré ! Mais que voulais-tu que, moi, je lui dise ?... R. Sammy l’a remplacé, et fait exactement son boulot : un point c’est tout ! Et pendant ce temps-là, Vince fait marcher un tapis roulant dans une des fermes productrices de levure. Pourtant, c’était un gosse brillant, ce petit-là, et tout le monde l’aimait bien ! Baley haussa les épaules et répliqua, plus sèchement qu’il ne',\n",
       " 'l’aurait voulu : — Oh ! tu sais, nous en sommes tous là, plus ou moins. Le patron avait droit à un bureau privé. Sur la porte en verre dépoli, on pouvait lire JULIUS ENDERBY. C’était écrit en jolies lettres, gravées avec soin dans le verre ; et, juste en dessous, luisait l’inscription : COMMISSAIRE PRINCIPAL DE POLICE DE NEW YORK. Baley entra et dit : — Vous m’avez fait demander, monsieur le commissaire ? Enderby leva la tête vers son visiteur. Il portait des lunettes, car il avait les yeux trop',\n",
       " 'sensibles pour que l’on pût y adapter des lentilles normales adhérant à la pupille. Il fallait d’abord s’habituer à voir ces lunettes, pour pouvoir, ensuite, apprécier exactement le visage de l’homme – lequel manquait tout à fait de distinction. Baley, pour sa part, inclinait fort à penser que le commissaire tenait à ses lunettes parce qu’elles conféraient à sa physionomie plus de caractère ; quant aux pupilles de son chef, il les soupçonnait sérieusement de ne pas être aussi sensibles qu’on le',\n",
       " 'prétendait. maisons étaient ainsi équipées. On appelait ça des « fenêtres ». Vous le saviez ? Baley n’ignorait pas ce détail, car il avait lu beaucoup d’ouvrages historiques. — J’en ai entendu parler, dit-il. — Alors, venez ici ! Baley hésita un peu, mais finit par s’exécuter. Il trouva un peu indécent d’exposer ainsi une pièce privée aux regards du monde extérieur. Décidément, il y avait des moments où le commissaire poussait par trop loin sa passion bien connue de l’époque médiévale : c’en',\n",
       " 'devenait stupide !... C’était tout comme ses lunettes... Ah ! mais oui ! Voilà ce qui lui changeait le visage ! C’était cela qui lui donnait l’air anormal ! — Excusez-moi, monsieur le commissaire, dit-il. Mais il me semble que vous portez de nouvelles lunettes, n’est-ce pas ? Le commissaire, légèrement surpris, le dévisagea un instant sans répondre ; puis il ôta ses lunettes, les examina, et regarda de nouveau Baley. Sans ses verres, sa figure semblait encore plus ronde et son menton un peu plus',\n",
       " 'massif. Et, du coup, son regard devenait plus vague, car il ne parvenait plus à distinguer nettement les objets. Il remit ses verres sur son nez et, d’un ton très agacé, il répondit enfin : — Oui, j’ai cassé les autres il y a trois jours ; et avec tout ce que j’ai sur les bras, je n’ai pu les remplacer que ce matin. Je dois vous dire, Lije, que ces trois dernières journées ont été infernales. — A cause des lunettes ? — Et d’autres choses aussi... J’en prends l’habitude ! Il se tourna vers la',\n",
       " 'fenêtre, et Baley, l’imitant, ne put cacher son étonnement à la vue de la pluie qui tombait du ciel. Il demeura un long moment immobile à la contempler, tandis que le commissaire l’observait avec une sorte de fierté, comme s’il avait lui-même créé le phénomène auquel il lui donnait le privilège d’assister. — C’est la troisième fois, ce mois-ci, que j’ai pu voir tomber la pluie, dit Enderby. C’est très remarquable, n’est-ce pas ? Mais, ce jour-là, sans trop savoir pourquoi, il éprouva, pour une',\n",
       " 'fois, le besoin de lui rendre la pareille. — Ecoutez, Julius, vous me parlez de tout, sauf de la raison pour laquelle vous m’avez fait venir, et cela me tracasse. De quoi s’agit-il ? — J’y arrive, j’y arrive ! répondit le commissaire. Mais laissez-moi vous exposer la chose à ma façon. Car il s’agit de sérieux ennuis. — Oh ! je m’en doute bien ! Qu’est-ce qui n’est pas une source d’embêtements sur cette sacrée planète ? Avez-vous encore plus de difficultés avec les R ? — Dans une certaine mesure,',\n",
       " 'oui, Lije. A vrai dire, j’en suis à me demander jusqu’à quel point le vieux monde pourra continuer à supporter les épreuves qui lui sont imposées. Quand j’ai fait installer cette fenêtre, ce n’était pas seulement pour voir le ciel de temps à autre ; c’était pour voir la ville. Je la contemple souvent, et je me demande ce qu’elle va devenir, au cours du prochain siècle ! Ces remarques mélancoliques déplurent vivement à Baley, mais il ne se lassa pas de regarder par la fenêtre, avec une sorte de',\n",
       " 'fascination. En dépit du mauvais temps qui diminuait sensiblement la visibilité, la ville offrait un spectacle sans pareil. Les services de la police occupaient la partie supérieure du City Hall Building, lequel s’élevait dans le ciel à une très grande hauteur. Vues de la fenêtre du commissaire principal, les tours des gratte-ciel voisins jouaient le rôle de parents pauvres, et l’on distinguait leurs sommets. On eût dit de gros doigts pointés vers la voûte des cieux. Les murs étaient nus, sans',\n",
       " 'caractère. C’étaient autant de ruches contenant d’immenses essaims humains. — A un certain point de vue, dit le commissaire, je regrette qu’il pleuve, car nous ne pouvons apercevoir Spacetown 1 . Baley jeta un regard vers l’ouest, mais, comme venait de l’indiquer Enderby, la vue, de ce côté-là, était bouchée. Les tours de New York s’estompaient dans un nuage de pluie, et l’horizon présentait l’aspect d’un mur blanchâtre. 1 Space = espace. Town = la ville. (N.d.T.) — C’est vraiment dommage,',\n",
       " 'dit-il. Il a dû attraper un microbe, j’imagine, ou quelque chose de contagieux... ou prendre froid, peut-être ! Le commissaire parut choqué d’une telle supposition : — Qu’allez-vous donc chercher ? fit-il. Baley ne prit pas la peine de développer plus avant son hypothèse. La précision avec laquelle les Spaciens avaient réussi à éliminer toute maladie de leur communauté était bien connue ; et l’on savait mieux encore avec quel soin ils évitaient, autant que possible, les contacts avec les',\n",
       " 'habitants de la Terre, tous plus ou moins porteurs de germes contagieux. Au surplus, ce n’était certes pas le moment de se montrer sarcastique avec le commissaire. Aussi Baley répondit-il tranquillement : — Oh ! j’ai dit ça sans intention particulière. Alors, de quoi est-il mort ? fit-il en regardant par la fenêtre. — Il est mort d’une charge d’explosif qui lui a fait sauter la poitrine. Baley ne se retourna pas, mais son dos se raidit, et, à son tour, il répliqua : — Qu’est-ce que vous me',\n",
       " 'racontez là ? — Je vous raconte un meurtre, dit doucement le commissaire. Et vous, un détective, vous savez mieux que personne ce que c’est ! Cette fois, Baley se retourna. — Mais c’est incroyable ! Un Spacien ? Et il y a trois jours de cela ? — Oui. — Mais qui a pu faire ça, et comment ? — Les Spaciens disent que c’est un Terrien. — Impossible ! — Pourquoi pas ? Vous n’aimez pas les Spaciens, et moi non plus. Qui sur la Terre les encaisse ? Personne. Quelqu’un les aura détestés un peu trop,',\n",
       " 'voilà tout ! — Je l’admets. Cependant... — Il y a eu l’incendie des usines de Los Angeles. Il y a eu la destruction des R de Berlin. Il y a eu les émeutes de Shanghai... — C’est exact. quand on a appris la nouvelle. J’avais rendez-vous avec lui, avec Roj Nemennuh Sarton. — La victime ? — Oui, la victime, répondit le commissaire d’une voix sinistre. Cinq minutes de plus, et c’est moi qui, en personne, aurais découvert le corps. Vous imaginez ce que s’aurait été ? Mais telle que la chose s’est',\n",
       " 'passée, elle a déjà été suffisamment brutale, bon sang ! Au moment même où j’arrivais, ils m’ont mis au courant, et ce fut le point de départ d’un cauchemar qui a duré trois jours. Avec cela, tout était trouble autour de moi, puisque je ne disposais pas d’un instant pour faire remplacer mes sacrées lunettes. En tout cas, cette histoire-là ne m’arrivera plus de sitôt ! J’en ai commandé trois paires. Baley se représenta l’événement, tel qu’il avait dû se produire. Il s’imagina les hautes et',\n",
       " 'élégantes silhouettes des Spaciens s’avançant vers le commissaire, et lui annonçant le drame, du ton positif et dépourvu de toute émotion qui leur était habituel. Julius avait dû ôter ses lunettes et les essuyer ; mais, sous le coup de la nouvelle, il les avait laissées tomber ; il en avait inévitablement contemplé ensuite les morceaux brisés, en marmottant d’inintelligibles paroles entre ses grosses lèvres ; et Baley était bien convaincu que, pendant cinq minutes au moins, le commissaire avait',\n",
       " 'été beaucoup plus préoccupé par la perte de ses lunettes que par le meurtre. — Oui, reprit Enderby, je suis dans une position impossible. Comme vous venez de le rappeler, Spacetown jouit de l’extra- territorialité. Ils peuvent donc insister pour mener eux-mêmes leur enquête, et faire à leur gouvernement n’importe quel rapport sur l’affaire. Les Mondes Extérieurs pourraient se baser là-dessus pour nous réclamer d’importantes indemnités. Et vous voyez d’ici comment notre population réagirait ! — Si',\n",
       " 'la Maison-Blanche consentait à payer la moindre de ces indemnités, elle se suiciderait politiquement. — Elle commettrait un autre genre de suicide en ne payant pas. — Oh ! fit Baley, vous n’avez pas besoin de me faire un dessin ! — Mais voyons ! dit-il. Quand cette question de remplacement a-t-elle commencé à venir sur le tapis ? — Allons, Lije, réplique Enderby, ne faites pas l’innocent ! Vous savez bien que ça n’a jamais cessé ! Voilà vingt-deux ans que ça dure ! €a remonte au jour où les',\n",
       " 'Spaciens sont venus ici, vous ne l’ignorez pas ! Seulement, aujourd’hui, ça commence à atteindre des couches sociales plus élevées, voilà tout ! Si nous ne sommes pas capables de mener cette enquête à bien, ça nous coûtera cher : ce sera une étape de plus – et quelle étape ! – que nous aurons parcourue sur le chemin nous conduisant au chômage ; et bientôt nous n’aurons plus, et pour cause, à nous préoccuper de nos cotisations mensuelles à la Caisse des retraites, c’est moi qui vous le dis ! En',\n",
       " 'revanche, Lije, si nous menons l’enquête avec succès, cela aura pour effet de repousser, dans un avenir lointain, le jour fatal que je viens d’évoquer. De plus, ce serait pour vous, personnellement, une occasion inespérée de percer. — Pour moi ? — Oui, car c’est vous que j’ai l’intention de désigner pour mener l’enquête, Lije. — Mais voyons, monsieur le commissaire, ce n’est pas possible ! Je ne suis encore que de la catégorie C. 5, et je n’ai pas droit à une mission de cette envergure... — Mais',\n",
       " 'vous désirez passer dans la catégorie C. 6, pas vrai ? Quelle question ! Baley connaissait les avantages afférents à la catégorie C. 6 : place assise, aux heures de pointe, dans les transports express, et pas seulement entre dix et seize heures ; droit à une plus grande variété de plats sur les menus des cuisines communautaires ; peut-être même un logement amélioré, et, de temps en temps, une place réservée pour Jessie au solarium... — Bien sûr que je le désire ! répliqua-t-il. Pourquoi pas ?',\n",
       " 'Mais si je n’arrive pas à débrouiller l’affaire, qu’est-ce que je vais prendre ! — Pourquoi ne réussiriez-vous pas, Lije ? dit Enderby d’une voix enjôleuse. Vous en avez toutes les capacités. Vous êtes l’un de mes meilleurs détectives. — Oh ! mais, pour ma part, je n’en doute pas un instant, monsieur le commissaire ! Et c’est bien cela qui me tracasse le plus, d’ailleurs ! Enderby se refusa à relever la remarque et poursuivit : — Alors, Lije, êtes-vous prêt à accepter de prendre avec vous un',\n",
       " 'associé spacien ? — Vous me le demandez comme un service personnel ? — Oui. Je vous prie de prendre en main l’enquête, dans les conditions exigées par Spacetown. — Eh bien, c’est d’accord, monsieur le commissaire. — Merci, Lije. Il va falloir qu’il habite avec vous. — Ah ! non, alors ! Je ne marche plus ! — Allons, allons, Lije ! Vous avez un grand appartement, voyons : trois pièces, avec un seul enfant ! Vous pouvez donc très bien l’installer chez vous. Il ne vous dérangera pas !... Pas le moins',\n",
       " 'du monde, je vous assure ! Et c’est indispensable. — Jessie va avoir horreur de ça ! J’en suis sûr. — Vous lui expliquerez ! répliqua le commissaire avec tant d’ardeur et d’insistance que, derrière ses lunettes, ses yeux semblèrent deux cavités sombres enfoncées dans leurs orbites. Vous lui direz que vous faites cela par amitié pour moi, et que, si tout marche bien, je m’engage, aussitôt après, à user de tout mon crédit pour vous faire sauter une catégorie, et obtenir pour vous une promotion à la',\n",
       " 'classe C. 7. Vous entendez, Lije, C. 7 !... — Entendu monsieur le commissaire. J’accepte le marché. Baley se leva à moitié, mais quelque chose dans la physionomie d’Enderby lui montra que tout n’était pas dit. — Y a-t-il d’autres conditions ? demanda-t-il en se rasseyant. — Oui, fit Enderby en baissant lentement la tête. Il s’agit du nom de votre associé. — Oh ! peu importe ! dit Baley. Que ce soit Pierre, Jacques, ou Paul... — C’est-à-dire... murmura le commissaire. Enfin... les Spaciens font...',\n",
       " 'ils ont de drôles d’idées, Lije. En fait, l’associé qu’ils vous destinent n’est pas... n’est pas... Baley écarquilla les yeux et s’écria : — Un instant, je vous prie !... Vous ne prétendez pas ?... choses par leur nom ! Je suis donc associé à Robot Daneel Olivaw !']"
      ]
     },
     "execution_count": 22,
     "metadata": {},
     "output_type": "execute_result"
    }
   ],
   "source": [
    "chunk_text(text)"
   ]
  },
  {
   "cell_type": "code",
   "execution_count": 23,
   "metadata": {},
   "outputs": [],
   "source": [
    "def get_entities(text: str, keep_duplicates: bool = False):\n",
    "    \"\"\"\n",
    "    Extracts named entities from the given text.\n",
    "\n",
    "    Args:\n",
    "        text (str): The input text.\n",
    "        keep_duplicates (bool, optional): Whether to keep duplicate entities. Defaults to False.\n",
    "\n",
    "    Returns:\n",
    "        list: A list of dictionaries representing the named entities. Each dictionary contains the keys 'entity_group',\n",
    "              'word', 'start', and 'end'.\n",
    "    \"\"\"\n",
    "    tokenizer = AutoTokenizer.from_pretrained(\"Jean-Baptiste/camembert-ner\")\n",
    "    model = AutoModelForTokenClassification.from_pretrained(\n",
    "        \"Jean-Baptiste/camembert-ner\"\n",
    "    )\n",
    "    nlp = pipeline(\n",
    "        \"ner\", model=model, tokenizer=tokenizer, aggregation_strategy=\"simple\"\n",
    "    )\n",
    "\n",
    "    raw_result = nlp(text)\n",
    "    raw_result = [\n",
    "        {\n",
    "            \"entity_group\": entity[\"entity_group\"],\n",
    "            \"word\": entity[\"word\"],\n",
    "            \"start\": entity[\"start\"],\n",
    "            \"end\": entity[\"end\"],\n",
    "        }\n",
    "        for entity in raw_result\n",
    "    ]\n",
    "\n",
    "    #Only keep the entities that are persons\n",
    "    filtered_results = [\n",
    "        entity for entity in raw_result if entity[\"entity_group\"] == \"PER\"\n",
    "    ]\n",
    "\n",
    "    #Remove duplicates\n",
    "    if keep_duplicates:\n",
    "        filtered_results = remove_duplicates_by_word(filtered_results)\n",
    "\n",
    "    return filtered_results\n"
   ]
  },
  {
   "cell_type": "code",
   "execution_count": 24,
   "metadata": {},
   "outputs": [
    {
     "name": "stdout",
     "output_type": "stream",
     "text": [
      "[{'entity_group': 'PER', 'word': 'Simpson', 'start': 339, 'end': 347}, {'entity_group': 'PER', 'word': 'R. Sammy', 'start': 387, 'end': 396}, {'entity_group': 'PER', 'word': 'Vince Barrett', 'start': 483, 'end': 497}, {'entity_group': 'PER', 'word': 'R. Sammy', 'start': 688, 'end': 697}, {'entity_group': 'PER', 'word': 'Vince', 'start': 789, 'end': 795}, {'entity_group': 'PER', 'word': 'Baley', 'start': 957, 'end': 963}, {'entity_group': 'PER', 'word': 'JULIUS ENDERBY', 'start': 1188, 'end': 1203}, {'entity_group': 'PER', 'word': 'Baley', 'start': 1372, 'end': 1378}, {'entity_group': 'PER', 'word': 'Enderby', 'start': 1458, 'end': 1466}, {'entity_group': 'PER', 'word': 'Baley', 'start': 1796, 'end': 1802}]\n"
     ]
    }
   ],
   "source": [
    "entities = get_entities(text)\n",
    "print(entities)"
   ]
  },
  {
   "cell_type": "code",
   "execution_count": 25,
   "metadata": {},
   "outputs": [],
   "source": [
    "def add_bio_tags(entities):\n",
    "    for entity in entities:\n",
    "        word = entity['word']\n",
    "        bio_tag = ''\n",
    "        for i, token in enumerate(word.split()):\n",
    "            if i == 0:\n",
    "                bio_tag += token + '<B-PER>'\n",
    "            else:\n",
    "                bio_tag += ' ' + token + '<I-PER>'\n",
    "        entity['bio_tag'] = bio_tag\n",
    "    return entities\n"
   ]
  },
  {
   "cell_type": "code",
   "execution_count": 26,
   "metadata": {},
   "outputs": [
    {
     "data": {
      "text/plain": [
       "[{'entity_group': 'PER',\n",
       "  'word': 'Simpson',\n",
       "  'start': 339,\n",
       "  'end': 347,\n",
       "  'bio_tag': 'Simpson<B-PER>'},\n",
       " {'entity_group': 'PER',\n",
       "  'word': 'R. Sammy',\n",
       "  'start': 387,\n",
       "  'end': 396,\n",
       "  'bio_tag': 'R.<B-PER> Sammy<I-PER>'},\n",
       " {'entity_group': 'PER',\n",
       "  'word': 'Vince Barrett',\n",
       "  'start': 483,\n",
       "  'end': 497,\n",
       "  'bio_tag': 'Vince<B-PER> Barrett<I-PER>'},\n",
       " {'entity_group': 'PER',\n",
       "  'word': 'R. Sammy',\n",
       "  'start': 688,\n",
       "  'end': 697,\n",
       "  'bio_tag': 'R.<B-PER> Sammy<I-PER>'},\n",
       " {'entity_group': 'PER',\n",
       "  'word': 'Vince',\n",
       "  'start': 789,\n",
       "  'end': 795,\n",
       "  'bio_tag': 'Vince<B-PER>'},\n",
       " {'entity_group': 'PER',\n",
       "  'word': 'Baley',\n",
       "  'start': 957,\n",
       "  'end': 963,\n",
       "  'bio_tag': 'Baley<B-PER>'},\n",
       " {'entity_group': 'PER',\n",
       "  'word': 'JULIUS ENDERBY',\n",
       "  'start': 1188,\n",
       "  'end': 1203,\n",
       "  'bio_tag': 'JULIUS<B-PER> ENDERBY<I-PER>'},\n",
       " {'entity_group': 'PER',\n",
       "  'word': 'Baley',\n",
       "  'start': 1372,\n",
       "  'end': 1378,\n",
       "  'bio_tag': 'Baley<B-PER>'},\n",
       " {'entity_group': 'PER',\n",
       "  'word': 'Enderby',\n",
       "  'start': 1458,\n",
       "  'end': 1466,\n",
       "  'bio_tag': 'Enderby<B-PER>'},\n",
       " {'entity_group': 'PER',\n",
       "  'word': 'Baley',\n",
       "  'start': 1796,\n",
       "  'end': 1802,\n",
       "  'bio_tag': 'Baley<B-PER>'}]"
      ]
     },
     "execution_count": 26,
     "metadata": {},
     "output_type": "execute_result"
    }
   ],
   "source": [
    "add_bio_tags(entities)"
   ]
  },
  {
   "cell_type": "code",
   "execution_count": 27,
   "metadata": {},
   "outputs": [],
   "source": [
    "def tag_text(text: str, entities: list):\n",
    "    \"\"\"\n",
    "    Tags the text with BIO tags based on the given entities.\n",
    "\n",
    "    Args:\n",
    "        text (str): The input text.\n",
    "        entities (list): A list of dictionaries representing the named entities. Each dictionary contains the keys 'entity_group',\n",
    "                          'word', 'start', 'end', and 'bio_tag'.\n",
    "\n",
    "    Returns:\n",
    "        str: The tagged text.\n",
    "    \"\"\"\n",
    "    tagged_text = ''\n",
    "    start = 0\n",
    "    for entity in entities:\n",
    "        tagged_text += text[start:entity['start'] + 1] + entity['bio_tag']\n",
    "        start = entity['end'] + 1\n",
    "    tagged_text += text[start:]\n",
    "    return tagged_text"
   ]
  },
  {
   "cell_type": "code",
   "execution_count": 28,
   "metadata": {},
   "outputs": [
    {
     "data": {
      "text/plain": [
       "'     Un ruban couvert d’inscriptions serrées en langage chiffré\\nsortait sans arrêt des organes vitaux de l’enregistreuse ; ce petit\\nappareil recherchait et analysait ses « souvenirs », afin de\\nfournir le renseignement demandé, qui était obtenu grâce à\\nd’infinies vibrations produites sur la brillante surface du\\nmercure.\\n     — Moi, reprit Simpson<B-PER> je flanquerais mon pied au derrière\\nde R.<B-PER> Sammy<I-PER> si je n’avais pas peur de me casser une jambe ! Tu\\nsais, l’autre soir, j’ai rencontré Vince<B-PER> Barrett<I-PER>..\\n     — Ah oui ?...\\n     — Il cherche à récupérer son job, ou n’importe quelle autre\\nplace dans le Service. Pauvre gosse ! Il est désespéré ! Mais que\\nvoulais-tu que, moi, je lui dise ?... R.<B-PER> Sammy<I-PER>l’a remplacé, et fait\\nexactement son boulot : un point c’est tout ! Et pendant ce\\ntemps-là, Vince<B-PER>fait marcher un tapis roulant dans une des\\nfermes productrices de levure. Pourtant, c’était un gosse\\nbrillant, ce petit-là, et tout le monde l’aimait bien !\\n     Baley<B-PER>haussa les épaules et répliqua, plus sèchement qu’il ne\\nl’aurait voulu :\\n     — Oh ! tu sais, nous en sommes tous là, plus ou moins.\\n     Le patron avait droit à un bureau privé. Sur la porte en\\nverre dépoli, on pouvait lire JULIUS<B-PER> ENDERBY<I-PER>\\n     C’était écrit en jolies lettres, gravées avec soin dans le verre ;\\net, juste en dessous, luisait l’inscription : COMMISSAIRE\\nPRINCIPAL DE POLICE DE NEW YORK.\\n     Baley<B-PER>entra et dit :\\n     — Vous m’avez fait demander, monsieur le commissaire ?\\n     Enderby<B-PER>leva la tête vers son visiteur. Il portait des lunettes,\\ncar il avait les yeux trop sensibles pour que l’on pût y adapter\\ndes lentilles normales adhérant à la pupille. Il fallait d’abord\\ns’habituer à voir ces lunettes, pour pouvoir, ensuite, apprécier\\nexactement le visage de l’homme – lequel manquait tout à fait\\nde distinction. Baley<B-PER> pour sa part, inclinait fort à penser que le\\ncommissaire tenait à ses lunettes parce qu’elles conféraient à sa\\nphysionomie plus de caractère ; quant aux pupilles de son chef,\\nil les soupçonnait sérieusement de ne pas être aussi sensibles\\nqu’on le prétendait.\\n\\n\\nmaisons étaient ainsi équipées. On appelait ça des « fenêtres ».\\nVous le saviez ?\\n     Baley n’ignorait pas ce détail, car il avait lu beaucoup\\nd’ouvrages historiques.\\n     — J’en ai entendu parler, dit-il.\\n     — Alors, venez ici !\\n     Baley hésita un peu, mais finit par s’exécuter. Il trouva un\\npeu indécent d’exposer ainsi une pièce privée aux regards du\\nmonde extérieur. Décidément, il y avait des moments où le\\ncommissaire poussait par trop loin sa passion bien connue de\\nl’époque médiévale : c’en devenait stupide !... C’était tout\\ncomme ses lunettes... Ah ! mais oui ! Voilà ce qui lui changeait\\nle visage ! C’était cela qui lui donnait l’air anormal !\\n     — Excusez-moi, monsieur le commissaire, dit-il. Mais il me\\nsemble que vous portez de nouvelles lunettes, n’est-ce pas ?\\n     Le commissaire, légèrement surpris, le dévisagea un instant\\nsans répondre ; puis il ôta ses lunettes, les examina, et regarda\\nde nouveau Baley. Sans ses verres, sa figure semblait encore\\nplus ronde et son menton un peu plus massif. Et, du coup, son\\nregard devenait plus vague, car il ne parvenait plus à distinguer\\nnettement les objets.\\n     Il remit ses verres sur son nez et, d’un ton très agacé, il\\nrépondit enfin :\\n     — Oui, j’ai cassé les autres il y a trois jours ; et avec tout ce\\nque j’ai sur les bras, je n’ai pu les remplacer que ce matin. Je\\ndois vous dire, Lije, que ces trois dernières journées ont été\\ninfernales.\\n     — A cause des lunettes ?\\n     — Et d’autres choses aussi... J’en prends l’habitude !\\n     Il se tourna vers la fenêtre, et Baley, l’imitant, ne put cacher\\nson étonnement à la vue de la pluie qui tombait du ciel. Il\\ndemeura un long moment immobile à la contempler, tandis que\\nle commissaire l’observait avec une sorte de fierté, comme s’il\\navait lui-même créé le phénomène auquel il lui donnait le\\nprivilège d’assister.\\n     — C’est la troisième fois, ce mois-ci, que j’ai pu voir tomber\\nla pluie, dit Enderby. C’est très remarquable, n’est-ce pas ?\\n\\n\\nMais, ce jour-là, sans trop savoir pourquoi, il éprouva, pour une\\nfois, le besoin de lui rendre la pareille.\\n      — Ecoutez, Julius, vous me parlez de tout, sauf de la raison\\npour laquelle vous m’avez fait venir, et cela me tracasse. De quoi\\ns’agit-il ?\\n      — J’y arrive, j’y arrive ! répondit le commissaire. Mais\\nlaissez-moi vous exposer la chose à ma façon. Car il s’agit de\\nsérieux ennuis.\\n      — Oh ! je m’en doute bien ! Qu’est-ce qui n’est pas une\\nsource d’embêtements sur cette sacrée planète ? Avez-vous\\nencore plus de difficultés avec les R ?\\n      — Dans une certaine mesure, oui, Lije. A vrai dire, j’en suis\\nà me demander jusqu’à quel point le vieux monde pourra\\ncontinuer à supporter les épreuves qui lui sont imposées. Quand\\nj’ai fait installer cette fenêtre, ce n’était pas seulement pour voir\\nle ciel de temps à autre ; c’était pour voir la ville. Je la\\ncontemple souvent, et je me demande ce qu’elle va devenir, au\\ncours du prochain siècle !\\n      Ces remarques mélancoliques déplurent vivement à Baley,\\nmais il ne se lassa pas de regarder par la fenêtre, avec une sorte\\nde fascination. En dépit du mauvais temps qui diminuait\\nsensiblement la visibilité, la ville offrait un spectacle sans pareil.\\nLes services de la police occupaient la partie supérieure du City\\nHall Building, lequel s’élevait dans le ciel à une très grande\\nhauteur. Vues de la fenêtre du commissaire principal, les tours\\ndes gratte-ciel voisins jouaient le rôle de parents pauvres, et l’on\\ndistinguait leurs sommets. On eût dit de gros doigts pointés vers\\nla voûte des cieux. Les murs étaient nus, sans caractère.\\nC’étaient autant de ruches contenant d’immenses essaims\\nhumains.\\n      — A un certain point de vue, dit le commissaire, je regrette\\nqu’il pleuve, car nous ne pouvons apercevoir Spacetown 1 .\\n      Baley jeta un regard vers l’ouest, mais, comme venait de\\nl’indiquer Enderby, la vue, de ce côté-là, était bouchée. Les tours\\nde New York s’estompaient dans un nuage de pluie, et l’horizon\\nprésentait l’aspect d’un mur blanchâtre.\\n\\n     1 Space = espace. Town = la ville. (N.d.T.)\\n\\n\\n     — C’est vraiment dommage, dit-il. Il a dû attraper un\\nmicrobe, j’imagine, ou quelque chose de contagieux... ou\\nprendre froid, peut-être !\\n     Le commissaire parut choqué d’une telle supposition :\\n     — Qu’allez-vous donc chercher ? fit-il.\\n     Baley ne prit pas la peine de développer plus avant son\\nhypothèse. La précision avec laquelle les Spaciens avaient réussi\\nà éliminer toute maladie de leur communauté était bien\\nconnue ; et l’on savait mieux encore avec quel soin ils évitaient,\\nautant que possible, les contacts avec les habitants de la Terre,\\ntous plus ou moins porteurs de germes contagieux. Au surplus,\\nce n’était certes pas le moment de se montrer sarcastique avec le\\ncommissaire. Aussi Baley répondit-il tranquillement :\\n     — Oh ! j’ai dit ça sans intention particulière. Alors, de quoi\\nest-il mort ? fit-il en regardant par la fenêtre.\\n     — Il est mort d’une charge d’explosif qui lui a fait sauter la\\npoitrine.\\n     Baley ne se retourna pas, mais son dos se raidit, et, à son\\ntour, il répliqua :\\n     — Qu’est-ce que vous me racontez là ?\\n     — Je vous raconte un meurtre, dit doucement le\\ncommissaire. Et vous, un détective, vous savez mieux que\\npersonne ce que c’est !\\n     Cette fois, Baley se retourna.\\n     — Mais c’est incroyable ! Un Spacien ? Et il y a trois jours de\\ncela ?\\n     — Oui.\\n     — Mais qui a pu faire ça, et comment ?\\n     — Les Spaciens disent que c’est un Terrien.\\n     — Impossible !\\n     — Pourquoi pas ? Vous n’aimez pas les Spaciens, et moi non\\nplus. Qui sur la Terre les encaisse ? Personne. Quelqu’un les\\naura détestés un peu trop, voilà tout !\\n     — Je l’admets. Cependant...\\n     — Il y a eu l’incendie des usines de Los Angeles. Il y a eu la\\ndestruction des R de Berlin. Il y a eu les émeutes de Shanghai...\\n     — C’est exact.\\n\\n\\nquand on a appris la nouvelle. J’avais rendez-vous avec lui, avec\\nRoj Nemennuh Sarton.\\n     — La victime ?\\n     — Oui, la victime, répondit le commissaire d’une voix\\nsinistre. Cinq minutes de plus, et c’est moi qui, en personne,\\naurais découvert le corps. Vous imaginez ce que s’aurait été ?\\nMais telle que la chose s’est passée, elle a déjà été suffisamment\\nbrutale, bon sang ! Au moment même où j’arrivais, ils m’ont mis\\nau courant, et ce fut le point de départ d’un cauchemar qui a\\nduré trois jours. Avec cela, tout était trouble autour de moi,\\npuisque je ne disposais pas d’un instant pour faire remplacer\\nmes sacrées lunettes. En tout cas, cette histoire-là ne m’arrivera\\nplus de sitôt ! J’en ai commandé trois paires.\\n     Baley se représenta l’événement, tel qu’il avait dû se\\nproduire. Il s’imagina les hautes et élégantes silhouettes des\\nSpaciens s’avançant vers le commissaire, et lui annonçant le\\ndrame, du ton positif et dépourvu de toute émotion qui leur\\nétait habituel. Julius avait dû ôter ses lunettes et les essuyer ;\\nmais, sous le coup de la nouvelle, il les avait laissées tomber ; il\\nen avait inévitablement contemplé ensuite les morceaux brisés,\\nen marmottant d’inintelligibles paroles entre ses grosses lèvres ;\\net Baley était bien convaincu que, pendant cinq minutes au\\nmoins, le commissaire avait été beaucoup plus préoccupé par la\\nperte de ses lunettes que par le meurtre.\\n     — Oui, reprit Enderby, je suis dans une position impossible.\\nComme vous venez de le rappeler, Spacetown jouit de l’extra-\\nterritorialité. Ils peuvent donc insister pour mener eux-mêmes\\nleur enquête, et faire à leur gouvernement n’importe quel\\nrapport sur l’affaire. Les Mondes Extérieurs pourraient se baser\\nlà-dessus pour nous réclamer d’importantes indemnités. Et\\nvous voyez d’ici comment notre population réagirait !\\n     — Si la Maison-Blanche consentait à payer la moindre de\\nces indemnités, elle se suiciderait politiquement.\\n     — Elle commettrait un autre genre de suicide en ne payant\\npas.\\n     — Oh ! fit Baley, vous n’avez pas besoin de me faire un\\ndessin !\\n\\n\\n    — Mais voyons ! dit-il. Quand cette question de\\nremplacement a-t-elle commencé à venir sur le tapis ?\\n    — Allons, Lije, réplique Enderby, ne faites pas l’innocent !\\nVous savez bien que ça n’a jamais cessé ! Voilà vingt-deux ans\\nque ça dure ! €a remonte au jour où les Spaciens sont venus ici,\\nvous ne l’ignorez pas ! Seulement, aujourd’hui, ça commence à\\natteindre des couches sociales plus élevées, voilà tout ! Si nous\\nne sommes pas capables de mener cette enquête à bien, ça nous\\ncoûtera cher : ce sera une étape de plus – et quelle étape ! – que\\nnous aurons parcourue sur le chemin nous conduisant au\\nchômage ; et bientôt nous n’aurons plus, et pour cause, à nous\\npréoccuper de nos cotisations mensuelles à la Caisse des\\nretraites, c’est moi qui vous le dis ! En revanche, Lije, si nous\\nmenons l’enquête avec succès, cela aura pour effet de repousser,\\ndans un avenir lointain, le jour fatal que je viens d’évoquer. De\\nplus, ce serait pour vous, personnellement, une occasion\\ninespérée de percer.\\n    — Pour moi ?\\n    — Oui, car c’est vous que j’ai l’intention de désigner pour\\nmener l’enquête, Lije.\\n    — Mais voyons, monsieur le commissaire, ce n’est pas\\npossible ! Je ne suis encore que de la catégorie C. 5, et je n’ai pas\\ndroit à une mission de cette envergure...\\n    — Mais vous désirez passer dans la catégorie C. 6, pas vrai ?\\n     Quelle question ! Baley connaissait les avantages afférents à\\nla catégorie C. 6 : place assise, aux heures de pointe, dans les\\ntransports express, et pas seulement entre dix et seize heures ;\\ndroit à une plus grande variété de plats sur les menus des\\ncuisines communautaires ; peut-être même un logement\\namélioré, et, de temps en temps, une place réservée pour Jessie\\nau solarium...\\n    — Bien sûr que je le désire ! répliqua-t-il. Pourquoi pas ?\\nMais si je n’arrive pas à débrouiller l’affaire, qu’est-ce que je vais\\nprendre !\\n    — Pourquoi ne réussiriez-vous pas, Lije ? dit Enderby d’une\\nvoix enjôleuse. Vous en avez toutes les capacités. Vous êtes l’un\\nde mes meilleurs détectives.\\n\\n\\n     — Oh ! mais, pour ma part, je n’en doute pas un instant,\\nmonsieur le commissaire ! Et c’est bien cela qui me tracasse le\\nplus, d’ailleurs !\\n     Enderby se refusa à relever la remarque et poursuivit :\\n     — Alors, Lije, êtes-vous prêt à accepter de prendre avec vous\\nun associé spacien ?\\n     — Vous me le demandez comme un service personnel ?\\n     — Oui. Je vous prie de prendre en main l’enquête, dans les\\nconditions exigées par Spacetown.\\n     — Eh bien, c’est d’accord, monsieur le commissaire.\\n     — Merci, Lije. Il va falloir qu’il habite avec vous.\\n     — Ah ! non, alors ! Je ne marche plus !\\n     — Allons, allons, Lije ! Vous avez un grand appartement,\\nvoyons : trois pièces, avec un seul enfant ! Vous pouvez donc\\ntrès bien l’installer chez vous. Il ne vous dérangera pas !... Pas le\\nmoins du monde, je vous assure ! Et c’est indispensable.\\n     — Jessie va avoir horreur de ça ! J’en suis sûr.\\n     — Vous lui expliquerez ! répliqua le commissaire avec tant\\nd’ardeur et d’insistance que, derrière ses lunettes, ses yeux\\nsemblèrent deux cavités sombres enfoncées dans leurs orbites.\\nVous lui direz que vous faites cela par amitié pour moi, et que, si\\ntout marche bien, je m’engage, aussitôt après, à user de tout\\nmon crédit pour vous faire sauter une catégorie, et obtenir pour\\nvous une promotion à la classe C. 7. Vous entendez, Lije, C. 7 !...\\n     — Entendu monsieur le commissaire. J’accepte le marché.\\n     Baley se leva à moitié, mais quelque chose dans la\\nphysionomie d’Enderby lui montra que tout n’était pas dit.\\n     — Y a-t-il d’autres conditions ? demanda-t-il en se\\nrasseyant.\\n     — Oui, fit Enderby en baissant lentement la tête. Il s’agit du\\nnom de votre associé.\\n     — Oh ! peu importe ! dit Baley. Que ce soit Pierre, Jacques,\\nou Paul...\\n     — C’est-à-dire... murmura le commissaire. Enfin... les\\nSpaciens font... ils ont de drôles d’idées, Lije. En fait, l’associé\\nqu’ils vous destinent n’est pas... n’est pas...\\n     Baley écarquilla les yeux et s’écria :\\n     — Un instant, je vous prie !... Vous ne prétendez pas ?...\\n\\nchoses par leur nom ! Je suis donc associé à Robot Daneel\\nOlivaw !\\n'"
      ]
     },
     "execution_count": 28,
     "metadata": {},
     "output_type": "execute_result"
    }
   ],
   "source": [
    "tag_text(text, entities)"
   ]
  },
  {
   "cell_type": "code",
   "execution_count": 29,
   "metadata": {},
   "outputs": [],
   "source": [
    "def tag_file(input_file_path: str):\n",
    "    \"\"\"\n",
    "    Tags the text in the given file with BIO tags.\n",
    "\n",
    "    Args:\n",
    "        input_file_path (str): The path to the input file.\n",
    "\n",
    "    Returns:\n",
    "        str: The tagged text.\n",
    "    \"\"\"\n",
    "    with open(input_file_path, 'r') as f:\n",
    "        text = f.read()\n",
    "\n",
    "    chunks = chunk_text(text)\n",
    "    tagged_chunks = []\n",
    "    for chunk in chunks:\n",
    "        entities = add_bio_tags(get_entities(chunk))\n",
    "        tagged_chunks.append(tag_text(chunk, entities))\n",
    "    return ' '.join(tagged_chunks)"
   ]
  },
  {
   "cell_type": "code",
   "execution_count": 30,
   "metadata": {},
   "outputs": [
    {
     "data": {
      "text/plain": [
       "'Un ruban couvert d’inscriptions serrées en langage chiffré sortait sans arrêt des organes vitaux de l’enregistreuse ; ce petit appareil recherchait et analysait ses « souvenirs », afin de fournir le renseignement demandé, qui était obtenu grâce à d’infinies vibrations produites sur la brillante surface du mercure. — Moi, reprit Simpson<B-PER> je flanquerais mon pied au derrière de R.<B-PER> Sammy<I-PER> si je n’avais pas peur de me casser une jambe ! Tu sais, l’autre soir, j’ai rencontré Vince<B-PER> Barrett<I-PER>.. — Ah oui ?... — Il cherche à récupérer son job, ou n’importe quelle autre place dans le Service. Pauvre gosse ! Il est désespéré ! Mais que voulais-tu que, moi, je lui dise ?... R.<B-PER> Sammy<I-PER>l’a remplacé, et fait exactement son boulot : un point c’est tout ! Et pendant ce temps-là, Vince<B-PER>fait marcher un tapis roulant dans une des fermes productrices de levure. Pourtant, c’était un gosse brillant, ce petit-là, et tout le monde l’aimait bien ! Baley<B-PER>haussa les épaules et répliqua, plus sèchement qu’il ne l’aurait voulu : — Oh ! tu sais, nous en sommes tous là, plus ou moins. Le patron avait droit à un bureau privé. Sur la porte en verre dépoli, on pouvait lire JULIUS<B-PER> ENDERBY<I-PER> C’était écrit en jolies lettres, gravées avec soin dans le verre ; et, juste en dessous, luisait l’inscription : COMMISSAIRE PRINCIPAL DE POLICE DE NEW YORK. Baley<B-PER>entra et dit : — Vous m’avez fait demander, monsieur le commissaire ? Enderby<B-PER>leva la tête vers son visiteur. Il portait des lunettes, car il avait les yeux trop sensibles pour que l’on pût y adapter des lentilles normales adhérant à la pupille. Il fallait d’abord s’habituer à voir ces lunettes, pour pouvoir, ensuite, apprécier exactement le visage de l’homme – lequel manquait tout à fait de distinction. Baley<B-PER> pour sa part, inclinait fort à penser que le commissaire tenait à ses lunettes parce qu’elles conféraient à sa physionomie plus de caractère ; quant aux pupilles de son chef, il les soupçonnait sérieusement de ne pas être aussi sensibles qu’on le prétendait. maisons étaient ainsi équipées. On appelait ça des « fenêtres ». Vous le saviez ? Baley<B-PER>n’ignorait pas ce détail, car il avait lu beaucoup d’ouvrages historiques. — J’en ai entendu parler, dit-il. — Alors, venez ici ! Baley<B-PER>hésita un peu, mais finit par s’exécuter. Il trouva un peu indécent d’exposer ainsi une pièce privée aux regards du monde extérieur. Décidément, il y avait des moments où le commissaire poussait par trop loin sa passion bien connue de l’époque médiévale : c’en devenait stupide !... C’était tout comme ses lunettes... Ah ! mais oui ! Voilà ce qui lui changeait le visage ! C’était cela qui lui donnait l’air anormal ! — Excusez-moi, monsieur le commissaire, dit-il. Mais il me semble que vous portez de nouvelles lunettes, n’est-ce pas ? Le commissaire, légèrement surpris, le dévisagea un instant sans répondre ; puis il ôta ses lunettes, les examina, et regarda de nouveau Baley<B-PER> Sans ses verres, sa figure semblait encore plus ronde et son menton un peu plus massif. Et, du coup, son regard devenait plus vague, car il ne parvenait plus à distinguer nettement les objets. Il remit ses verres sur son nez et, d’un ton très agacé, il répondit enfin : — Oui, j’ai cassé les autres il y a trois jours ; et avec tout ce que j’ai sur les bras, je n’ai pu les remplacer que ce matin. Je dois vous dire, Lije<B-PER> que ces trois dernières journées ont été infernales. — A cause des lunettes ? — Et d’autres choses aussi... J’en prends l’habitude ! Il se tourna vers la fenêtre, et Baley<B-PER> l’imitant, ne put cacher son étonnement à la vue de la pluie qui tombait du ciel. Il demeura un long moment immobile à la contempler, tandis que le commissaire l’observait avec une sorte de fierté, comme s’il avait lui-même créé le phénomène auquel il lui donnait le privilège d’assister. — C’est la troisième fois, ce mois-ci, que j’ai pu voir tomber la pluie, dit Enderby<B-PER> C’est très remarquable, n’est-ce pas ? Mais, ce jour-là, sans trop savoir pourquoi, il éprouva, pour une fois, le besoin de lui rendre la pareille. — Ecoutez, Julius<B-PER> vous me parlez de tout, sauf de la raison pour laquelle vous m’avez fait venir, et cela me tracasse. De quoi s’agit-il ? — J’y arrive, j’y arrive ! répondit le commissaire. Mais laissez-moi vous exposer la chose à ma façon. Car il s’agit de sérieux ennuis. — Oh ! je m’en doute bien ! Qu’est-ce qui n’est pas une source d’embêtements sur cette sacrée planète ? Avez-vous encore plus de difficultés avec les R ? — Dans une certaine mesure, oui, Lije<B-PER> A vrai dire, j’en suis à me demander jusqu’à quel point le vieux monde pourra continuer à supporter les épreuves qui lui sont imposées. Quand j’ai fait installer cette fenêtre, ce n’était pas seulement pour voir le ciel de temps à autre ; c’était pour voir la ville. Je la contemple souvent, et je me demande ce qu’elle va devenir, au cours du prochain siècle ! Ces remarques mélancoliques déplurent vivement à Baley<B-PER> mais il ne se lassa pas de regarder par la fenêtre, avec une sorte de fascination. En dépit du mauvais temps qui diminuait sensiblement la visibilité, la ville offrait un spectacle sans pareil. Les services de la police occupaient la partie supérieure du City Hall Building, lequel s’élevait dans le ciel à une très grande hauteur. Vues de la fenêtre du commissaire principal, les tours des gratte-ciel voisins jouaient le rôle de parents pauvres, et l’on distinguait leurs sommets. On eût dit de gros doigts pointés vers la voûte des cieux. Les murs étaient nus, sans caractère. C’étaient autant de ruches contenant d’immenses essaims humains. — A un certain point de vue, dit le commissaire, je regrette qu’il pleuve, car nous ne pouvons apercevoir Spacetown 1 . Baley<B-PER>jeta un regard vers l’ouest, mais, comme venait de l’indiquer Enderby<B-PER> la vue, de ce côté-là, était bouchée. Les tours de New York s’estompaient dans un nuage de pluie, et l’horizon présentait l’aspect d’un mur blanchâtre. 1 Space = espace. Town = la ville. (N.d.T.) — C’est vraiment dommage, dit-il. Il a dû attraper un microbe, j’imagine, ou quelque chose de contagieux... ou prendre froid, peut-être ! Le commissaire parut choqué d’une telle supposition : — Qu’allez-vous donc chercher ? fit-il. Baley<B-PER>ne prit pas la peine de développer plus avant son hypothèse. La précision avec laquelle les Spaciens avaient réussi à éliminer toute maladie de leur communauté était bien connue ; et l’on savait mieux encore avec quel soin ils évitaient, autant que possible, les contacts avec les habitants de la Terre, tous plus ou moins porteurs de germes contagieux. Au surplus, ce n’était certes pas le moment de se montrer sarcastique avec le commissaire. Aussi Baley<B-PER>répondit-il tranquillement : — Oh ! j’ai dit ça sans intention particulière. Alors, de quoi est-il mort ? fit-il en regardant par la fenêtre. — Il est mort d’une charge d’explosif qui lui a fait sauter la poitrine. Baley<B-PER>ne se retourna pas, mais son dos se raidit, et, à son tour, il répliqua : — Qu’est-ce que vous me racontez là ? — Je vous raconte un meurtre, dit doucement le commissaire. Et vous, un détective, vous savez mieux que personne ce que c’est ! Cette fois, Baley<B-PER>se retourna. — Mais c’est incroyable ! Un Spacien ? Et il y a trois jours de cela ? — Oui. — Mais qui a pu faire ça, et comment ? — Les Spaciens disent que c’est un Terrien. — Impossible ! — Pourquoi pas ? Vous n’aimez pas les Spaciens, et moi non plus. Qui sur la Terre les encaisse ? Personne. Quelqu’un les aura détestés un peu trop, voilà tout ! — Je l’admets. Cependant... — Il y a eu l’incendie des usines de Los Angeles. Il y a eu la destruction des R de Berlin. Il y a eu les émeutes de Shanghai... — C’est exact. quand on a appris la nouvelle. J’avais rendez-vous avec lui, avec Roj<B-PER> Nemennuh<I-PER> Sarton<I-PER> — La victime ? — Oui, la victime, répondit le commissaire d’une voix sinistre. Cinq minutes de plus, et c’est moi qui, en personne, aurais découvert le corps. Vous imaginez ce que s’aurait été ? Mais telle que la chose s’est passée, elle a déjà été suffisamment brutale, bon sang ! Au moment même où j’arrivais, ils m’ont mis au courant, et ce fut le point de départ d’un cauchemar qui a duré trois jours. Avec cela, tout était trouble autour de moi, puisque je ne disposais pas d’un instant pour faire remplacer mes sacrées lunettes. En tout cas, cette histoire-là ne m’arrivera plus de sitôt ! J’en ai commandé trois paires. Baley<B-PER>se représenta l’événement, tel qu’il avait dû se produire. Il s’imagina les hautes et élégantes silhouettes des Spaciens s’avançant vers le commissaire, et lui annonçant le drame, du ton positif et dépourvu de toute émotion qui leur était habituel. Julius<B-PER>avait dû ôter ses lunettes et les essuyer ; mais, sous le coup de la nouvelle, il les avait laissées tomber ; il en avait inévitablement contemplé ensuite les morceaux brisés, en marmottant d’inintelligibles paroles entre ses grosses lèvres ; et Baley<B-PER>était bien convaincu que, pendant cinq minutes au moins, le commissaire avait été beaucoup plus préoccupé par la perte de ses lunettes que par le meurtre. — Oui, reprit Enderby<B-PER> je suis dans une position impossible. Comme vous venez de le rappeler, Spacetown jouit de l’extra- territorialité. Ils peuvent donc insister pour mener eux-mêmes leur enquête, et faire à leur gouvernement n’importe quel rapport sur l’affaire. Les Mondes Extérieurs pourraient se baser là-dessus pour nous réclamer d’importantes indemnités. Et vous voyez d’ici comment notre population réagirait ! — Si la Maison-Blanche consentait à payer la moindre de ces indemnités, elle se suiciderait politiquement. — Elle commettrait un autre genre de suicide en ne payant pas. — Oh ! fit Baley<B-PER> vous n’avez pas besoin de me faire un dessin ! — Mais voyons ! dit-il. Quand cette question de remplacement a-t-elle commencé à venir sur le tapis ? — Allons, Lije<B-PER> réplique Enderby<B-PER> ne faites pas l’innocent ! Vous savez bien que ça n’a jamais cessé ! Voilà vingt-deux ans que ça dure ! €a remonte au jour où les Spaciens sont venus ici, vous ne l’ignorez pas ! Seulement, aujourd’hui, ça commence à atteindre des couches sociales plus élevées, voilà tout ! Si nous ne sommes pas capables de mener cette enquête à bien, ça nous coûtera cher : ce sera une étape de plus – et quelle étape ! – que nous aurons parcourue sur le chemin nous conduisant au chômage ; et bientôt nous n’aurons plus, et pour cause, à nous préoccuper de nos cotisations mensuelles à la Caisse des retraites, c’est moi qui vous le dis ! En revanche, Lije<B-PER> si nous menons l’enquête avec succès, cela aura pour effet de repousser, dans un avenir lointain, le jour fatal que je viens d’évoquer. De plus, ce serait pour vous, personnellement, une occasion inespérée de percer. — Pour moi ? — Oui, car c’est vous que j’ai l’intention de désigner pour mener l’enquête, Lije<B-PER> — Mais voyons, monsieur le commissaire, ce n’est pas possible ! Je ne suis encore que de la catégorie C. 5, et je n’ai pas droit à une mission de cette envergure... — Mais vous désirez passer dans la catégorie C. 6, pas vrai ? Quelle question ! Baley<B-PER>connaissait les avantages afférents à la catégorie C. 6 : place assise, aux heures de pointe, dans les transports express, et pas seulement entre dix et seize heures ; droit à une plus grande variété de plats sur les menus des cuisines communautaires ; peut-être même un logement amélioré, et, de temps en temps, une place réservée pour Jessie<B-PER>au solarium... — Bien sûr que je le désire ! répliqua-t-il. Pourquoi pas ? Mais si je n’arrive pas à débrouiller l’affaire, qu’est-ce que je vais prendre ! — Pourquoi ne réussiriez-vous pas, Lije<B-PER>? dit Enderby<B-PER>d’une voix enjôleuse. Vous en avez toutes les capacités. Vous êtes l’un de mes meilleurs détectives. — Oh ! mais, pour ma part, je n’en doute pas un instant, monsieur le commissaire ! Et c’est bien cela qui me tracasse le plus, d’ailleurs ! Enderby<B-PER>se refusa à relever la remarque et poursuivit : — Alors, Lije<B-PER> êtes-vous prêt à accepter de prendre avec vous un associé spacien ? — Vous me le demandez comme un service personnel ? — Oui. Je vous prie de prendre en main l’enquête, dans les conditions exigées par Spacetown<B-PER> — Eh bien, c’est d’accord, monsieur le commissaire. — Merci, Lije<B-PER> Il va falloir qu’il habite avec vous. — Ah ! non, alors ! Je ne marche plus ! — Allons, allons, Lije<B-PER>! Vous avez un grand appartement, voyons : trois pièces, avec un seul enfant ! Vous pouvez donc très bien l’installer chez vous. Il ne vous dérangera pas !... Pas le moins du monde, je vous assure ! Et c’est indispensable. — Jessie<B-PER>va avoir horreur de ça ! J’en suis sûr. — Vous lui expliquerez ! répliqua le commissaire avec tant d’ardeur et d’insistance que, derrière ses lunettes, ses yeux semblèrent deux cavités sombres enfoncées dans leurs orbites. Vous lui direz que vous faites cela par amitié pour moi, et que, si tout marche bien, je m’engage, aussitôt après, à user de tout mon crédit pour vous faire sauter une catégorie, et obtenir pour vous une promotion à la classe C. 7. Vous entendez, Lije<B-PER> C<B-PER> 7 !... — Entendu monsieur le commissaire. J’accepte le marché. Baley<B-PER>se leva à moitié, mais quelque chose dans la physionomie d’EEnderby<B-PER>lui montra que tout n’était pas dit. — Y a-t-il d’autres conditions ? demanda-t-il en se rasseyant. — Oui, fit Enderby<B-PER>en baissant lentement la tête. Il s’agit du nom de votre associé. — Oh ! peu importe ! dit Baley<B-PER> Que ce soit Pierre, Jacques<B-PER> ou Paul... — C’est-à-dire... murmura le commissaire. Enfin... les Spaciens font... ils ont de drôles d’idées, Lije<B-PER> En fait, l’associé qu’ils vous destinent n’est pas... n’est pas... Baley<B-PER>écarquilla les yeux et s’écria : — Un instant, je vous prie !... Vous ne prétendez pas ?... choses par leur nom ! Je suis donc associé à Robot<B-PER> Daneel<I-PER> Olivaw<I-PER>!'"
      ]
     },
     "execution_count": 30,
     "metadata": {},
     "output_type": "execute_result"
    }
   ],
   "source": [
    "tag_file(\"../data/kaggle/les_cavernes_d_acier/chapter_1.txt.preprocessed\")"
   ]
  },
  {
   "cell_type": "code",
   "execution_count": 31,
   "metadata": {},
   "outputs": [],
   "source": [
    "def write_bio_tag_file(input_file_path: str, output_file_path: str):\n",
    "    \"\"\"\n",
    "    Tags the text in the given file with BIO tags and writes the tagged text to the output file.\n",
    "\n",
    "    Args:\n",
    "        input_file_path (str): The path to the input file.\n",
    "        output_file_path (str): The path to the output file.\n",
    "    \"\"\"\n",
    "    tagged_text = tag_file(input_file_path)\n",
    "    with open(output_file_path, \"w\") as f:\n",
    "        f.write(tagged_text)"
   ]
  },
  {
   "cell_type": "code",
   "execution_count": 70,
   "metadata": {},
   "outputs": [],
   "source": [
    "from flair.data import Sentence\n",
    "from flair.models import SequenceTagger"
   ]
  },
  {
   "cell_type": "code",
   "execution_count": 67,
   "metadata": {},
   "outputs": [
    {
     "name": "stdout",
     "output_type": "stream",
     "text": [
      "2023-11-11 12:48:27,015 SequenceTagger predicts: Dictionary with 69 tags: <unk>, O, DET, NFP, ADJFP, AUX, VPPMS, ADV, PREP, PDEMMS, NMS, COSUB, PINDMS, PPOBJMS, VERB, DETFS, NFS, YPFOR, VPPFS, PUNCT, DETMS, PROPN, ADJMS, PPER3FS, ADJFS, COCO, NMP, PREL, PPER1S, ADJMP, VPPMP, DINTMS, PPER3MS, PPER3MP, PREF, ADJ, DINTFS, CHIF, XFAMIL, PRELFS, SYM, NOUN, MOTINC, PINDFS, PPOBJMP, NUM, PREFP, PDEMFS, VPPFP, PPER3FP\n"
     ]
    }
   ],
   "source": [
    "model = SequenceTagger.load(\"qanastek/pos-french\")\n",
    "\n",
    "with open(\"test.txt\", 'r') as f:\n",
    "    text = f.read()\n",
    "\n",
    "sentence = Sentence(text)\n",
    "\n",
    "# Predict tags\n",
    "model.predict(sentence)\n",
    "\n",
    "with open(\"test\" + \"_pos.txt\", 'w') as file:\n",
    "    tokens = [token.text for token in sentence.tokens]\n",
    "    pos_tags = [token.labels[0].value for token in sentence.tokens]\n",
    "\n",
    "    # Concatenate tokens and POS tags\n",
    "    result = \" \".join([f\"{token} <{pos_tag}>\" for token, pos_tag in zip(tokens, pos_tags)])\n",
    "\n",
    "    file.write(result)"
   ]
  },
  {
   "cell_type": "code",
   "execution_count": 68,
   "metadata": {},
   "outputs": [],
   "source": [
    "def write_POS_tag_file(input_file_path: str, output_file_path: str):\n",
    "    \"\"\"\n",
    "    Tags the text in the given file with BIO tags and writes the tagged text to the output file.\n",
    "\n",
    "    Args:\n",
    "        input_file_path (str): The path to the input file.\n",
    "        output_file_path (str): The path to the output file.\n",
    "    \"\"\"\n",
    "    with open(input_file_path, 'r') as f:\n",
    "        text = f.read()\n",
    "\n",
    "    model = SequenceTagger.load(\"qanastek/pos-french\")\n",
    "    sentence = Sentence(text)\n",
    "    model.predict(sentence)\n",
    "\n",
    "    with open(output_file_path, 'w') as file:\n",
    "        tokens = [token.text for token in sentence.tokens]\n",
    "        pos_tags = [token.labels[0].value for token in sentence.tokens]\n",
    "\n",
    "        result = \" \".join([f\"{token} <{pos_tag}>\" for token, pos_tag in zip(tokens, pos_tags)])\n",
    "\n",
    "        file.write(result)\n"
   ]
  },
  {
   "cell_type": "code",
   "execution_count": 69,
   "metadata": {},
   "outputs": [
    {
     "name": "stdout",
     "output_type": "stream",
     "text": [
      "2023-11-11 12:49:48,528 SequenceTagger predicts: Dictionary with 69 tags: <unk>, O, DET, NFP, ADJFP, AUX, VPPMS, ADV, PREP, PDEMMS, NMS, COSUB, PINDMS, PPOBJMS, VERB, DETFS, NFS, YPFOR, VPPFS, PUNCT, DETMS, PROPN, ADJMS, PPER3FS, ADJFS, COCO, NMP, PREL, PPER1S, ADJMP, VPPMP, DINTMS, PPER3MS, PPER3MP, PREF, ADJ, DINTFS, CHIF, XFAMIL, PRELFS, SYM, NOUN, MOTINC, PINDFS, PPOBJMP, NUM, PREFP, PDEMFS, VPPFP, PPER3FP\n"
     ]
    }
   ],
   "source": [
    "write_POS_tag_file(\"test.txt\", \"test_POS.txt\")"
   ]
  },
  {
   "cell_type": "code",
   "execution_count": null,
   "metadata": {},
   "outputs": [],
   "source": [
    "write_bio_tag_file(\"../data/kaggle/les_cavernes_d_acier/chapter_1.txt.preprocessed\", \"../data/kaggle/les_cavernes_d_acier/chapter_1.txt.preprocessed.tagged\")"
   ]
  },
  {
   "cell_type": "code",
   "execution_count": null,
   "metadata": {},
   "outputs": [],
   "source": [
    "from transformers import CamembertModel, CamembertTokenizer\n",
    "import torch\n",
    "\n",
    "# Load pre-trained Camembert model and tokenizer\n",
    "model_name = 'camembert-base'\n",
    "tokenizer = CamembertTokenizer.from_pretrained(model_name)\n",
    "model = CamembertModel.from_pretrained(model_name)\n",
    "\n",
    "# Assuming 'names' is your list of French strings\n",
    "names = ['list', 'of', 'your', 'French', 'names']\n",
    "\n",
    "# Convert names into tokens\n",
    "tokens = tokenizer(names, return_tensors='pt', padding=True, truncation=True)\n",
    "\n",
    "# Get embeddings from Camembert\n",
    "with torch.no_grad():\n",
    "    embeddings = model(**tokens).last_hidden_state.mean(dim=1)  # Mean pooling over the tokens\n",
    "\n",
    "# Convert embeddings to a numpy array\n",
    "embeddings_array = embeddings.numpy()\n"
   ]
  },
  {
   "cell_type": "code",
   "execution_count": null,
   "metadata": {},
   "outputs": [
    {
     "name": "stdout",
     "output_type": "stream",
     "text": [
      "[[ 2.5457520e-02  1.9502008e-01  9.5946267e-02 ... -1.2614131e-03\n",
      "  -3.4861069e-02 -6.1775614e-02]\n",
      " [ 4.9295358e-02  2.4522889e-01  2.7901208e-02 ... -3.3852983e-02\n",
      "   3.2870568e-02 -1.9953772e-04]\n",
      " [ 1.3908811e-01  3.6588863e-01 -9.9164292e-02 ...  1.7919924e-02\n",
      "   3.4764811e-02 -5.3519718e-02]\n",
      " [ 9.0838090e-02  1.5609087e-01  8.5225694e-02 ...  1.2635261e-02\n",
      "   7.5460272e-03 -9.1026828e-02]\n",
      " [ 2.5424529e-02  2.3475938e-01  6.8598837e-03 ... -5.7950355e-03\n",
      "   5.2910518e-02  4.4839092e-02]]\n"
     ]
    }
   ],
   "source": [
    "print(embeddings_array)"
   ]
  },
  {
   "cell_type": "code",
   "execution_count": null,
   "metadata": {},
   "outputs": [],
   "source": [
    "from sklearn.metrics.pairwise import cosine_similarity\n",
    "\n",
    "# Calculate cosine similarity\n",
    "similarity_matrix = cosine_similarity(embeddings_array, embeddings_array)\n"
   ]
  },
  {
   "cell_type": "code",
   "execution_count": null,
   "metadata": {},
   "outputs": [
    {
     "data": {
      "image/png": "[encoded data removed]",
      "text/plain": [
       "<Figure size 800x600 with 2 Axes>"
      ]
     },
     "metadata": {},
     "output_type": "display_data"
    }
   ],
   "source": [
    "import matplotlib.pyplot as plt\n",
    "import seaborn as sns\n",
    "\n",
    "# Assuming similarity_matrix is your cosine similarity matrix\n",
    "# You can replace it with the actual similarity matrix you have\n",
    "\n",
    "# Plot the confusion matrix\n",
    "plt.figure(figsize=(8, 6))\n",
    "sns.heatmap(similarity_matrix, annot=True, cmap='coolwarm', fmt='.2f', xticklabels=names, yticklabels=names)\n",
    "plt.title('Cosine Similarity Confusion Matrix')\n",
    "plt.xlabel('Names')\n",
    "plt.ylabel('Names')\n",
    "plt.show()\n"
   ]
  }
 ],
 "metadata": {
  "kernelspec": {
   "display_name": "ia",
   "language": "python",
   "name": "python3"
  },
  "language_info": {
   "codemirror_mode": {
    "name": "ipython",
    "version": 3
   },
   "file_extension": ".py",
   "mimetype": "text/x-python",
   "name": "python",
   "nbconvert_exporter": "python",
   "pygments_lexer": "ipython3",
   "version": "3.9.13"
  }
 },
 "nbformat": 4,
 "nbformat_minor": 2
}
