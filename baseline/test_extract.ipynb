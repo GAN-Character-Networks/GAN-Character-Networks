{
 "cells": [
  {
   "cell_type": "code",
   "execution_count": 1,
   "metadata": {},
   "outputs": [],
   "source": [
    "import NER\n",
    "import cooccurences"
   ]
  },
  {
   "cell_type": "code",
   "execution_count": 6,
   "metadata": {},
   "outputs": [
    {
     "name": "stdout",
     "output_type": "stream",
     "text": [
      "('Simpson', 'R. Sammy')\n",
      "('R. Sammy', 'Vince')\n",
      "('Baley', 'Enderby')\n",
      "('Baley', 'Enderby')\n",
      "('Lije', 'Enderby')\n",
      "('Lije', 'Enderby')\n",
      "('Enderby', 'Lije')\n",
      "('Spacetown', 'Lije')\n",
      "('Lije', 'C')\n",
      "('Lije', 'Baley')\n",
      "('C', 'Baley')\n",
      "('Baley', 'Enderby')\n",
      "('Enderby', 'Baley')\n",
      "('Baley', 'Jacques')\n",
      "('Lije', 'Baley')\n"
     ]
    }
   ],
   "source": [
    "entities, chunks = NER.get_entities_from_file(\"../data/kaggle/les_cavernes_d_acier/chapter_1.txt.preprocessed\")\n",
    "\n",
    "cooc = cooccurences.get_cooccurences(chunks, entities)\n",
    "for duo in cooc:\n",
    "    print(duo)"
   ]
  }
 ],
 "metadata": {
  "kernelspec": {
   "display_name": "ia",
   "language": "python",
   "name": "python3"
  },
  "language_info": {
   "codemirror_mode": {
    "name": "ipython",
    "version": 3
   },
   "file_extension": ".py",
   "mimetype": "text/x-python",
   "name": "python",
   "nbconvert_exporter": "python",
   "pygments_lexer": "ipython3",
   "version": "3.9.13"
  }
 },
 "nbformat": 4,
 "nbformat_minor": 2
}
