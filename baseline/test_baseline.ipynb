{
 "cells": [
  {
   "cell_type": "code",
   "execution_count": 1,
   "metadata": {},
   "outputs": [],
   "source": [
    "from vroom.baseline import * "
   ]
  },
  {
   "cell_type": "code",
   "execution_count": null,
   "metadata": {},
   "outputs": [],
   "source": [
    "coocs = get_cooccurences_from_text(\"../data/kaggle/les_cavernes_d_acier/chapter_3.txt.preprocessed\")\n",
    "for coo in coocs:\n",
    "    print(coo)\n",
    "    print()"
   ]
  },
  {
   "cell_type": "code",
   "execution_count": 2,
   "metadata": {},
   "outputs": [
    {
     "name": "stdout",
     "output_type": "stream",
     "text": [
      "no alias 2 :  madame le Maire\n",
      "aliases :  [['Renversement THALUS, EMMER', 'Thalus'], ['Trantor'], ['GALACTICA'], ['Seldon', 'Maître Seldon'], ['Dors Venabili', 'Venabili', 'Dors'], ['Raych'], ['madame Maire'], ['Hummin', 'Hum'], ['Rachelle', 'Rachelle Ire'], ['Mannix IV', 'Maire Mannix IV', 'Mannix'], ['Hari'], ['Demerzel'], ['Empereur'], ['Kan'], ['Madame le Maire'], ['Cléon']]\n"
     ]
    }
   ],
   "source": [
    "result = get_cooccurences_with_aliases(\"../data/kaggle/prelude_a_fondation/chapter_18.txt.preprocessed\")\n",
    "# for value in result:\n",
    "#     print(value)"
   ]
  }
 ],
 "metadata": {
  "kernelspec": {
   "display_name": "ia",
   "language": "python",
   "name": "python3"
  },
  "language_info": {
   "codemirror_mode": {
    "name": "ipython",
    "version": 3
   },
   "file_extension": ".py",
   "mimetype": "text/x-python",
   "name": "python",
   "nbconvert_exporter": "python",
   "pygments_lexer": "ipython3",
   "version": "3.9.13"
  }
 },
 "nbformat": 4,
 "nbformat_minor": 2
}
