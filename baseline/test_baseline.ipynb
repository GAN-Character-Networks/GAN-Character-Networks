{
 "cells": [
  {
   "cell_type": "code",
   "execution_count": 5,
   "metadata": {},
   "outputs": [
    {
     "ename": "ModuleNotFoundError",
     "evalue": "No module named 'vroom'",
     "output_type": "error",
     "traceback": [
      "\u001b[0;31m---------------------------------------------------------------------------\u001b[0m",
      "\u001b[0;31mModuleNotFoundError\u001b[0m                       Traceback (most recent call last)",
      "\u001b[1;32m/Users/batum/Library/Mobile Documents/com~apple~CloudDocs/Desktop/Univ/Master 2/S3/Application Innovation/GAN-Character-Networks/baseline/test_baseline.ipynb Cellule 1\u001b[0m line \u001b[0;36m1\n\u001b[0;32m----> <a href='vscode-notebook-cell:/Users/batum/Library/Mobile%20Documents/com~apple~CloudDocs/Desktop/Univ/Master%202/S3/Application%20Innovation/GAN-Character-Networks/baseline/test_baseline.ipynb#W0sZmlsZQ%3D%3D?line=0'>1</a>\u001b[0m \u001b[39mfrom\u001b[39;00m \u001b[39mvroom\u001b[39;00m\u001b[39m.\u001b[39;00m\u001b[39mbaseline\u001b[39;00m \u001b[39mimport\u001b[39;00m \u001b[39m*\u001b[39m \n",
      "\u001b[0;31mModuleNotFoundError\u001b[0m: No module named 'vroom'"
     ]
    }
   ],
   "source": [
    "from vroom.baseline import * "
   ]
  },
  {
   "cell_type": "markdown",
   "metadata": {},
   "source": []
  },
  {
   "cell_type": "code",
   "execution_count": null,
   "metadata": {},
   "outputs": [
    {
     "data": {
      "text/plain": [
       "[('Simpson', 'R. Sammy'),\n",
       " ('R. Sammy', 'Vince'),\n",
       " ('Baley', 'Enderby'),\n",
       " ('Baley', 'Enderby'),\n",
       " ('Lije', 'Enderby'),\n",
       " ('Lije', 'Enderby'),\n",
       " ('Enderby', 'Lije'),\n",
       " ('Spacetown', 'Lije'),\n",
       " ('Lije', 'C'),\n",
       " ('Lije', 'Baley'),\n",
       " ('C', 'Baley'),\n",
       " ('Baley', 'Enderby'),\n",
       " ('Enderby', 'Baley'),\n",
       " ('Baley', 'Jacques'),\n",
       " ('Lije', 'Baley')]"
      ]
     },
     "execution_count": 2,
     "metadata": {},
     "output_type": "execute_result"
    }
   ],
   "source": [
    "get_cooccurences_from_text(\"../data/kaggle/les_cavernes_d_acier/chapter_1.txt.preprocessed\")"
   ]
  }
 ],
 "metadata": {
  "kernelspec": {
   "display_name": "ia",
   "language": "python",
   "name": "python3"
  },
  "language_info": {
   "codemirror_mode": {
    "name": "ipython",
    "version": 3
   },
   "file_extension": ".py",
   "mimetype": "text/x-python",
   "name": "python",
   "nbconvert_exporter": "python",
   "pygments_lexer": "ipython3",
   "version": "3.9.13"
  }
 },
 "nbformat": 4,
 "nbformat_minor": 2
}
